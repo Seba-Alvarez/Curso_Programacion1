{
 "cells": [
  {
   "cell_type": "markdown",
   "id": "b0bf065c",
   "metadata": {},
   "source": [
    "### Desafío 1:\n",
    "\n",
    "Crea una función que tome una lista de números y devuelva la suma y el promedio de esos números."
   ]
  },
  {
   "cell_type": "code",
   "execution_count": null,
   "id": "a460c44b",
   "metadata": {},
   "outputs": [],
   "source": [
    "#se importa statistics para usar el promedio (también se podría haber hecho con numpy)\n",
    "import statistics\n",
    "\n",
    "#lista simple para saber el resultado rapido\n",
    "lista_1 = [1,1,1,1,1]\n",
    "\n",
    "#se define una lista creativamente nombrada y se le dice que se le va a pasar un argumento\n",
    "def des_1(lista):\n",
    "    #se usa la función nativa de python para sumar\n",
    "    suma = print(f\"El resultado de la suma de todos los elementos es {sum(lista)}\")\n",
    "    #se usa la función importada de statistics para hacer el promedio\n",
    "    promedio = print(f\"El resultado del promedio es {statistics.mean(lista)}\")\n",
    "    #no le puse return para que no me devolviera la tupla con los resultados\n",
    "\n",
    "#se llama directamente a la función y se le pasa la lista como parámetro\n",
    "#la llamo así para que no me devuelva una tupla con los números resultantes\n",
    "des_1(lista_1)\n"
   ]
  },
  {
   "cell_type": "code",
   "execution_count": null,
   "id": "159ac36a",
   "metadata": {},
   "outputs": [],
   "source": [
    "from reinventando_la_rueda import suma, promedio\n",
    "\n",
    "#lista simple para saber el resultado rapido\n",
    "lista_1 = [1,1,1,1,1]\n",
    "\n",
    "#se define una lista creativamente nombrada y se le dice que se le va a pasar un argumento\n",
    "def des_1(lista):\n",
    "    #se usa la función nativa de python para sumar\n",
    "    sumas = print(f\"El resultado de la suma de todos los elementos es {suma(lista)}\")\n",
    "    #se usa la función importada de statistics para hacer el promedio\n",
    "    promedios = print(f\"El resultado del promedio es {promedio(lista)}\")\n",
    "    #no le puse return para que no me devolviera la tupla con los resultados\n",
    "\n",
    "#se llama directamente a la función y se le pasa la lista como parámetro\n",
    "#la llamo así para que no me devuelva una tupla con los números resultantes\n",
    "des_1(lista_1)\n"
   ]
  },
  {
   "cell_type": "markdown",
   "id": "321b3b22",
   "metadata": {},
   "source": [
    "### Desafío 2:\n",
    "\n",
    "Diseña una función que tome una cadena y devuelva la misma cadena, pero con el primer carácter de cada palabra en mayúsculas."
   ]
  },
  {
   "cell_type": "code",
   "execution_count": null,
   "id": "bc0ce096",
   "metadata": {},
   "outputs": [],
   "source": [
    "#se asigna a una variable  una cadena de caracteres (un string)\n",
    "var_2 = \"Árbol, es como le llamo de cariño al esternocleidomastoideo, que es un músculo del cuello\"\n",
    "\n",
    "#se define una función que va a tener un string como argumento\n",
    "def des_2(palabra):\n",
    "    #se llama al método nativo de python title() para que capilaize la primera letra de cada \"palabra\"\n",
    "    #hay que tener en cuenta que title tiene ciertas limitaciones, pero para palabras sin apostrofe \n",
    "    return palabra.title()\n",
    "\n",
    "print(des_2(var_2))"
   ]
  },
  {
   "cell_type": "code",
   "execution_count": null,
   "id": "2b877fc4",
   "metadata": {},
   "outputs": [],
   "source": [
    "from reinventando_la_rueda import titulo\n",
    "\n",
    "#se asigna a una variable  una cadena de caracteres (un string)\n",
    "var_2 = \"Árbol, es como le llamo de cariño al esternocleidomastoideo, que es un músculo del cuello\"\n",
    "\n",
    "#se define una función que va a tener un string como argumento\n",
    "def des_2(palabra):\n",
    "    #se llama al método nativo de python title() para que capilaize la primera letra de cada \"palabra\"\n",
    "    #hay que tener en cuenta que title tiene ciertas limitaciones, pero para palabras sin apostrofe \n",
    "    return titulo(palabra)\n",
    "\n",
    "print(des_2(var_2))"
   ]
  },
  {
   "cell_type": "markdown",
   "id": "debf4bfb",
   "metadata": {},
   "source": [
    "### Desafío 3:\n",
    "\n",
    "Construye una función que tome dos listas y devuelva `True` si tienen al menos un elemento en común, de lo contrario, que devuelva `False`."
   ]
  },
  {
   "cell_type": "code",
   "execution_count": null,
   "id": "1d6d7075",
   "metadata": {},
   "outputs": [],
   "source": [
    "#se definen las listas\n",
    "lista_3 = [1,1,1]\n",
    "lista_4 = [1,2,2]\n",
    "\n",
    "#se crea una función que tome dos listas como argumentos\n",
    "def des_3(lista_p, lista_s):\n",
    "    #set, es una función que, pone multiples items en una variable y no permite valores repetidos\n",
    "    #entonces se verifica si ambas listas comparten elementos\n",
    "    if set(lista_p) and set(lista_s):\n",
    "        #se retorna true\n",
    "        return True\n",
    "    else:\n",
    "        #sino se retorna false\n",
    "        return False\n",
    "\n",
    "#se llama a la función y se le pasan las listas por parámetros\n",
    "des_3(lista_3,lista_4)\n"
   ]
  },
  {
   "cell_type": "markdown",
   "id": "8e88a500",
   "metadata": {},
   "source": [
    "### Desafío 4: Algoritmo MCD\n",
    "\n",
    "El Máximo Común Divisor (MCD) es un concepto matemático que ha sido estudiado desde tiempos antiguos. Atribuido a Euclides, el algoritmo para determinarlo es elegante y eficiente. Tu tarea es implementar una función que calcule el MCD de dos números utilizando el algoritmo de Euclides."
   ]
  },
  {
   "cell_type": "code",
   "execution_count": null,
   "id": "5b4d28a8",
   "metadata": {},
   "outputs": [],
   "source": [
    "#se importa numpy\n",
    "import numpy as np\n",
    "\n",
    "#se declaran las variables\n",
    "var_3 = 10\n",
    "var_4 = 50\n",
    "\n",
    "#se crea una función que tome como argumentos dos variables\n",
    "def des_4(numero_1, numero_2):\n",
    "    #se usa la función gcd() que es mcd en inglés para hacer el calculo\n",
    "    return np.gcd(numero_1, numero_2)\n",
    "\n",
    "#se muestra todo por parámetro\n",
    "print(f\"el mcd de {var_3} y {var_4} es {des_4(var_3, var_4)}\")"
   ]
  },
  {
   "cell_type": "code",
   "execution_count": null,
   "id": "96960dce",
   "metadata": {},
   "outputs": [],
   "source": [
    "from reinventando_la_rueda import mcd\n",
    "\n",
    "#se declaran las variables\n",
    "var_3 = 10\n",
    "var_4 = 50\n",
    "\n",
    "#se crea una función que tome como argumentos dos variables\n",
    "def des_4(numero_1, numero_2):\n",
    "    #se usa la función gcd() que es mcd en inglés para hacer el calculo\n",
    "    return mcd(numero_1, numero_2)\n",
    "\n",
    "#se muestra todo por parámetro\n",
    "print(f\"el mcd de {var_3} y {var_4} es {des_4(var_3, var_4)}\")"
   ]
  },
  {
   "cell_type": "markdown",
   "id": "7e3836a1",
   "metadata": {},
   "source": [
    "### Desafío 5: Palíndromo\n",
    "\n",
    "Crea una función llamada es_palindromo que tome una una cadena y devuelva true si es palindromo o false si no lo es."
   ]
  },
  {
   "cell_type": "code",
   "execution_count": null,
   "id": "729f0915",
   "metadata": {},
   "outputs": [],
   "source": [
    "#se define el palindromo\n",
    "var_5 = \"Anita lava la tina\"\n",
    "\n",
    "#se define una función que va a tomar como argumento una cadena de caracteres\n",
    "def es_palindromo(palabra):\n",
    "    #se guarda la palabra remplazando los espacios con replace()\n",
    "    #replace() remplaza el un elemento por otro. En este caso quita los espacios vacios (representados por \" \")\n",
    "    #lower() es para que tome toda la palabra en minuscula porque A y a no son lo mismo en este contexto\n",
    "    #esta función no contempla tildes o apostrofes\n",
    "    pal_lim = palabra.replace(\" \",\"\").lower()\n",
    "\n",
    "    #se usa slicing para dar vuelta la palabra, si la palabra es igual a si misma dada vuelta es un palindromo\n",
    "    #por defecto va a retornar True o False\n",
    "    return pal_lim == pal_lim[::-1]\n",
    "\n",
    "#se llama a la función   \n",
    "print(es_palindromo(var_5))"
   ]
  },
  {
   "cell_type": "markdown",
   "id": "87e74eb7",
   "metadata": {},
   "source": [
    "### Desafío 6: Verificación y Cálculo de Números Primos\n",
    "\n",
    "Crea dos funciones y un `main` que te permita trabajar con números primos, un concepto matemático fundamental. En este desafío, deberás:\n",
    "\n",
    "1. Crear una función que verifique si un número es primo.\n",
    "2. Crear otra función que cuente la cantidad de números primos dentro de una lista dada.\n",
    "3. Implementar un `main` que integre estas funciones y muestre los resultados.\n",
    "\n",
    "Asegúrate de que tu código esté bien documentado y que las funciones sean reutilizables."
   ]
  },
  {
   "cell_type": "code",
   "execution_count": null,
   "id": "c5462236",
   "metadata": {},
   "outputs": [],
   "source": [
    "#se importa sympy para la función que chequea si el número es primo o no\n",
    "from sympy import isprime\n",
    "\n",
    "#se define una función que va a tener un número como argumento\n",
    "def es_primo(numero):\n",
    "    #se llama a isprime de sympy y se le pasa como parámetro un número\n",
    "    return isprime(numero)\n",
    "\n",
    "#se define una función que va a recibir una lista como argumentos\n",
    "def contar_primos(lista):\n",
    "    #se inicializa una variable en 0 para contar\n",
    "    cantidad = 0\n",
    "    #se recorre la lista de números\n",
    "    for i in lista:\n",
    "        #si el número es primo\n",
    "        if es_primo(i):\n",
    "            #se suma un 1 al contador\n",
    "            cantidad += 1\n",
    "    #se retorna el contador\n",
    "    return cantidad\n",
    "\n",
    "#se define la función main que define el punto de ejecución del programa\n",
    "def main():\n",
    "    #se define la lista\n",
    "    lista_5 = [1,2,3,4,5]\n",
    "\n",
    "    #se recorre la lista de números\n",
    "    for i in lista_5:\n",
    "        #se verifica si el número es primo o no llamando a la función y pasandole por parámetro el elemento actual que\n",
    "        #esta recorriendo el búcle\n",
    "        if es_primo(i):\n",
    "            #se imprime por pantalla si es primo\n",
    "            print(f\"{i} es primo\")\n",
    "        else:\n",
    "            #en caso de no ser primo se muestra el mensaje acorde\n",
    "            print(f\"{i} no es primo\")\n",
    "\n",
    "    #se inicializa la función en una variable\n",
    "    cant = contar_primos(lista_5)\n",
    "    #se muestra todo por pantalla\n",
    "    print(f\"la cantidad de números primos en la lista {lista_5} es {cant}\")\n",
    "#se llama a main() para iniciar el programa.\n",
    "main()"
   ]
  }
 ],
 "metadata": {
  "kernelspec": {
   "display_name": "Python 3",
   "language": "python",
   "name": "python3"
  },
  "language_info": {
   "codemirror_mode": {
    "name": "ipython",
    "version": 3
   },
   "file_extension": ".py",
   "mimetype": "text/x-python",
   "name": "python",
   "nbconvert_exporter": "python",
   "pygments_lexer": "ipython3",
   "version": "3.13.2"
  }
 },
 "nbformat": 4,
 "nbformat_minor": 5
}
