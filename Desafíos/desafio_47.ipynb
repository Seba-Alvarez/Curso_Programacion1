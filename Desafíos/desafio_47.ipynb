{
 "cells": [
  {
   "cell_type": "code",
   "execution_count": null,
   "id": "920ed28f",
   "metadata": {},
   "outputs": [],
   "source": [
    "class Autor:\n",
    "    #se definen los atributos con el constructor\n",
    "    def __init__(self, nombre = \"\", nacionalidad = \"\"):\n",
    "        self.nombre = nombre\n",
    "        self.nacionalidad = nacionalidad\n",
    "        #se crea un lista de libros (que es también un atributo de la clase)\n",
    "        self.lista_libros = []\n",
    "\n",
    "    #métodos de la clase, alta, baja y mostrar. Se muestran los autores y los libros\n",
    "    def alta_libro(self, libro):\n",
    "        self.lista_libros.append(libro)\n",
    "\n",
    "    def baja_libro(self, libro):\n",
    "        originales = len(self.lista_libros)\n",
    "        self.lista_libros = [l for l in self.lista_libros if l != libro]\n",
    "        if len(self.lista_libros) < originales:\n",
    "            print(f\"Libro(s) '{libro}' eliminado(s).\")\n",
    "        else:\n",
    "            print(f\"Libro '{libro}' no encontrado.\")\n",
    "\n",
    "    def mostrar_autor(self):\n",
    "        print(f\"Nombre: {self.nombre}\")\n",
    "        print(f\"Nacionalidad: {self.nacionalidad}\")\n",
    "\n",
    "    def mostrar_libros(self):\n",
    "        if not self.lista_libros:\n",
    "            print(\"No hay libros\")\n",
    "        else:\n",
    "            print(\"Libros:\")\n",
    "            for libro in self.lista_libros:\n",
    "                print(libro)\n"
   ]
  },
  {
   "cell_type": "markdown",
   "id": "1f8d1c76",
   "metadata": {},
   "source": [
    "Agregué los métodos de alta y baja de libros, los cuales operan sobre un atributo de la clase Autor llamado lista_libros, que es una lista que contiene los libros del autor.\n",
    "\n",
    "El método de alta (o agregar) utiliza append() para añadir un libro a la lista. En caso de querer agregar varios libros a la vez, se podría usar el método extend() en lugar de append().\n",
    "\n",
    "Por otro lado, el método de baja (o eliminar) recorre la lista de libros y crea una nueva lista que contiene únicamente aquellos libros distintos al que se desea eliminar. Luego compara la longitud de la lista original con la nueva: si la cantidad disminuyó, significa que uno o más libros fueron eliminados, y se informa al usuario con un mensaje. En caso contrario, se indica que el libro no se encontraba en la lista. Esta implementación permite eliminar todas las ocurrencias del libro especificado.\n",
    "\n",
    "El método mostrar_autor() ya estaba creado y muestra el nombre y la nacionalidad del autor."
   ]
  }
 ],
 "metadata": {
  "language_info": {
   "name": "python"
  }
 },
 "nbformat": 4,
 "nbformat_minor": 5
}
