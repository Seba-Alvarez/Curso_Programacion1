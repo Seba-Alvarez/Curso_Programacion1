{
 "cells": [
  {
   "cell_type": "markdown",
   "id": "b0f3a474",
   "metadata": {},
   "source": [
    "## Desafío 1: Calificaciones aprobadas \n",
    "\n",
    "Supón que estás analizando las calificaciones de los estudiantes y quieres saber cuántos aprobaron y cuántos desaprobaron. Se considera que una calificación de 7 o superior es aprobatoria y cualquier calificación menor a 7 es desaprobatoria. Utiliza lo que aprendiste sobre bucles y condicionales para resolver este problema."
   ]
  },
  {
   "cell_type": "markdown",
   "id": "240660aa",
   "metadata": {},
   "source": [
    "El desafío pide:\n",
    "\n",
    "- En base a las calificaciones de los estudiantes verificar si la calificación es aprobatoria o desaprobatoria.\n",
    "- Esto implica ciertas cosas:\n",
    "    1. Tener las calificaciones y los alumnos guardados.\n",
    "    2. Los alumnos tienen que tener asignadas sus calificaciones.\n",
    "    3. Las calificaciones se pueden repetir, pero no se especifica si son de varias materias (se va a asumir que es de una sola materia).\n",
    "    4. Hay que recorrer las calificaciones y verificar la nota del alumno con la siguiente condición:\n",
    "        - Si la nota es mayor o igual a 7 (7, 8, 9 o 10) el estudiante aprueba. Es importante especificar que 7 también es una calificación aprobatoria.\n",
    "        - Si la nota es menor a 7 (6, 5, 4, 3, 2 o 1) el estudiante reprueba.\n",
    "    5. Una vez que se verifica la condición imprimir el resultado pertinente.\n",
    "\n",
    "**Nota:** Al decir *recorrer*, hay más de una forma de hacerlo, con búcles o de forma recursiva.\n"
   ]
  },
  {
   "cell_type": "markdown",
   "id": "f3ebea51",
   "metadata": {},
   "source": [
    "Operadores lógicos:\n",
    "\n",
    "- **if** para verificar si la nota del alumno es 7 o mas\n",
    "- **elif** para manejar si la nota del alumno es 6 o menos.\n",
    "\n",
    "Estructura de datos:\n",
    "\n",
    "- **diccionario** En este caso, considero oportuno usar un diccionario, ya que se pueden guardar los nombres de los estudiantes y su respectiva nota.\n",
    "\n",
    "\n",
    "Estructura de control:\n",
    "\n",
    "- **for** búcle para recorrer el diccionario usado."
   ]
  },
  {
   "cell_type": "code",
   "execution_count": null,
   "id": "b6ced1e2",
   "metadata": {},
   "outputs": [],
   "source": [
    "#si se quisiera mostrar en un orden diferente, se puede hacer asi.\n",
    "\n",
    "#se crea el diccionario\n",
    "alumnos_notas = {\n",
    "    #se asignan los nombres y las notas\n",
    "    \"Anna\":1,\n",
    "    \"Ramón\":2,\n",
    "    \"Miguel\":4,\n",
    "    \"Ana\":7,\n",
    "    \"Javier\":9,\n",
    "    \"Sofía\":10\n",
    "}\n",
    "\n",
    "#se crean diccionarios vacios para mostrar despues\n",
    "alumnos_aprobados = {}\n",
    "alumnos_reprobados = {}\n",
    "\n",
    "#búcle para recorrer el diccionario\n",
    "#es importante especificar tanto la key (en este caso el nombre) y el valor (en este caso la nota)\n",
    "for alumno, nota in alumnos_notas.items():\n",
    "    #se chequea la calificación si es mayor o igual a 7, aprueba\n",
    "    if nota >= 7:\n",
    "        #se guardan los alumnos que aprueban en el diccionario\n",
    "        alumnos_aprobados [alumno] = nota\n",
    "    else:\n",
    "        #se guardan los alumnos que reprueban en el diccionario\n",
    "        alumnos_reprobados [alumno] = nota\n",
    "\n",
    "#aca se muestran los alumnos\n",
    "print(\"ALUMNOS APROBADOS\")\n",
    "#este for es para mostrar los alumnos aprobados guardados en el diccionario\n",
    "#esto se hace para mostrar de forma mas limpia, sin que muestre los {} y las '' \n",
    "# que aparecerían si printeara directamente el diccionario\n",
    "for alumno, nota in alumnos_aprobados.items():\n",
    "    #se muestra en un f-string\n",
    "    print(f\"{alumno} aprueba con nota {nota}\")\n",
    "\n",
    "#lo mismo que arriba pero para los reprobados\n",
    "#el \\n es para hacer un salto de línea\n",
    "print(\"\\nALUMNOS REPROBADOS:\")\n",
    "for alumno, nota in alumnos_reprobados.items():\n",
    "    print(f\"{alumno} reprueba con nota {nota}\")\n"
   ]
  },
  {
   "cell_type": "markdown",
   "id": "5e244271",
   "metadata": {},
   "source": [
    "Desafíos encontrados:\n",
    "\n",
    "-  Al decidir usar un diccionario, no se pueden repetir los nombres porque en este caso son las claves. Si esto fuese un programa real, sería quizá una mejor opción listas, para poder repetir los nombres.\n",
    "-  Al mostrar los diccionarios no me gustaba simplemente mostrar los diccionarios, entonces busque \"show dictionary clean python\" y los génios de [stack overflow](https://stackoverflow.com/questions/44689546/how-to-print-out-a-dictionary-nicely-in-python) respondieron (hace 7 años).\n",
    "-  No recordaba como agregar items a los diccionarios [G4G](https://www.geeksforgeeks.org/append-a-value-to-a-dictionary-python/)."
   ]
  },
  {
   "cell_type": "markdown",
   "id": "fb8c1ed3",
   "metadata": {},
   "source": [
    "## Desafío 2: Mejora del cálculo\n",
    "\n",
    "Toma el ejemplo del cálculo del promedio de calificaciones y mejóralo. En lugar de pedir las calificaciones una por una, modifica el código para pedir todas las calificaciones al mismo tiempo (el estudiante puede ingresar las calificaciones separadas por comas) y luego calcular el promedio."
   ]
  },
  {
   "cell_type": "markdown",
   "id": "38014a34",
   "metadata": {},
   "source": [
    "El desafío pide:\n",
    "\n",
    "- Proponer mejoras al código proporcionado\n"
   ]
  },
  {
   "cell_type": "code",
   "execution_count": null,
   "id": "637fa305",
   "metadata": {},
   "outputs": [],
   "source": [
    "suma_calificaciones = 0\n",
    "contador_asignaturas = 0\n",
    "\n",
    "while True:\n",
    "    calificacion = int(input(\"Ingrese una calificación (entre 1 y 12) o 0 para terminar: \"))\n",
    "    \n",
    "    if calificacion == 0:\n",
    "        break\n",
    "    \n",
    "    if calificacion < 1 or calificacion > 12:\n",
    "        print(\"La calificación debe estar entre 1 y 12. Inténtalo de nuevo.\")\n",
    "        continue\n",
    "\n",
    "    suma_calificaciones += calificacion\n",
    "    contador_asignaturas += 1\n",
    "\n",
    "promedio = suma_calificaciones / contador_asignaturas\n",
    "print(f\"El promedio de las calificaciones es: {promedio}\")"
   ]
  },
  {
   "cell_type": "markdown",
   "id": "10e05f30",
   "metadata": {},
   "source": [
    "Operadores lógicos:\n",
    "\n",
    "- **if** para comprobar las condiciones y manejar el flujo del while\n",
    "\n",
    "Estructura de datos:\n",
    "\n",
    "- **lista** Use una lista para guardar las materias.\n",
    "- **set** Sirve para guardar items en una variable, pero no permite duplicados.\n",
    "\n",
    "Estructura de control:\n",
    "\n",
    "- **for** búcle para recorrer las listas.\n",
    "- **while** búcle para ejecutar el código hasta que salga.\n",
    "- **break** para salir del while\n",
    "- **continue** para continuar con el programa si se encontró algunas de las excepciones"
   ]
  },
  {
   "cell_type": "code",
   "execution_count": null,
   "id": "3940bc08",
   "metadata": {},
   "outputs": [],
   "source": [
    "#esta función no es mia la saque de stack overflow, los comentarios si son mios\n",
    "\n",
    "#se define la función y que se le va a pasar una lista por parámetro\n",
    "def duplicados(lista):\n",
    "  #se guarda la información en un set que no permite duplicados\n",
    "  vistos = set()\n",
    "  #se recorre la lista\n",
    "  for i in lista:\n",
    "    #si el elemento actual ya esta en vistos va a devolver true\n",
    "    if i in vistos: return True\n",
    "    #si el elemnto actual no esta en vistos, lo va a agregar\n",
    "    vistos.add(i)\n",
    "  #esto es el caso por defecto, para diferenciar del True\n",
    "  return False\n",
    "\n",
    "#se inicializa una variable 0 para asignarle las calificaciones\n",
    "suma_calificaciones = 0\n",
    "#se crea una lista vacia de asiganturas\n",
    "asignaturas = []\n",
    "\n",
    "#búcle while\n",
    "while True:\n",
    "    #se pide la calificación, del 1 al 12\n",
    "    calificacion = int(input(\"Ingrese una calificación (entre 1 y 12) o 0 para terminar: \"))\n",
    "    \n",
    "    #condición para salir del while\n",
    "    if calificacion == 0:\n",
    "        #sale del búcle\n",
    "        break\n",
    "    \n",
    "    #pequeño manejo de excepciones, si se ingresan números negativos, mayores a 12 o 0 te pide ingrsar un número valido\n",
    "    if calificacion < 1 or calificacion > 12:\n",
    "        print(\"La calificación debe estar entre 1 y 12. Inténtalo de nuevo.\")\n",
    "        #para continuar el búcle\n",
    "        continue\n",
    "\n",
    "    #se guardan las calificaciones en una variable.\n",
    "    #es importante el += para no sobrescribir\n",
    "    suma_calificaciones += calificacion\n",
    "    \n",
    "    #se piden las materias\n",
    "    #el .lower es para que todo lo pase a minusculas \n",
    "    materia = input(\"ingresar nombre de las materia\").lower()\n",
    "    #los guarda en la lista\n",
    "    #para verificar si las materias ya fueron ingresadas\n",
    "    if materia in asignaturas:\n",
    "        print(\"La materia ya fue ingresada. Inténtalo de nuevo.\")\n",
    "        #si la materia ya fue ingresada se pide otra vez\n",
    "        continue\n",
    "    #si la materia no fue ingresada previamente se ingresa\n",
    "    asignaturas.append(materia)\n",
    "       \n",
    "\n",
    "#se calcula el promedio con la suma total de las calificaciones, dividido por la cantidad de asignaturas\n",
    "    promedio = suma_calificaciones / len(asignaturas)\n",
    "\n",
    "#se muestra todo\n",
    "print(f\"El promedio del alumno es: {promedio}\")"
   ]
  },
  {
   "cell_type": "markdown",
   "id": "7d030704",
   "metadata": {},
   "source": [
    "Desafíos encontrados:\n",
    "\n",
    "- La primer modificación de agregar la lista sin condiciones fue muy simple de hacer. \n",
    "- Cuando quise hacer que chequeara los duplicados (para manejar excepciones) busque en internet y encontre a los génios de [Stack Overflow](https://stackoverflow.com/questions/1541797/how-do-i-check-if-there-are-duplicates-in-a-flat-list) que tan generosamente proporcionan conocimiento gratuito."
   ]
  },
  {
   "cell_type": "markdown",
   "id": "b501e9af",
   "metadata": {},
   "source": [
    "<h4>Github</h4>\n",
    "<a href=\"https://github.com/Seba-Alvarez/Curso_Programacion1/blob/main/Notebook/desafios_2_6_Ejercicios.ipynb\"> Link</a>"
   ]
  }
 ],
 "metadata": {
  "kernelspec": {
   "display_name": "Python 3",
   "language": "python",
   "name": "python3"
  },
  "language_info": {
   "codemirror_mode": {
    "name": "ipython",
    "version": 3
   },
   "file_extension": ".py",
   "mimetype": "text/x-python",
   "name": "python",
   "nbconvert_exporter": "python",
   "pygments_lexer": "ipython3",
   "version": "3.13.2"
  }
 },
 "nbformat": 4,
 "nbformat_minor": 5
}
