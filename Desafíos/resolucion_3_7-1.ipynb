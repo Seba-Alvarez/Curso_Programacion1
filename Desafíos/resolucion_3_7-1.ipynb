{
 "cells": [
  {
   "cell_type": "markdown",
   "id": "9c4ff3f4",
   "metadata": {},
   "source": [
    "# Desafío 1: Gestión del stock de la verdulería\n",
    "\n",
    "¡Bienvenido al desafío de la verdulería! Has sido nombrado el nuevo gerente de una tienda de frutas, verduras y hortalizas. Tu tarea será manejar el stock de la tienda utilizando un arreglo. Aquí hay una serie de tareas que tendrás que completar.\n",
    "\n",
    "## Inventario inicial\n",
    "\n",
    "Aquí está el inventario inicial de la tienda:"
   ]
  },
  {
   "cell_type": "code",
   "execution_count": null,
   "id": "dc4bae0c",
   "metadata": {},
   "outputs": [],
   "source": [
    "inventario = [\"manzanas\", \"bananas\", \"zanahorias\", \"espinacas\", \"brocoli\", \"cebolla\", \"kiwis\"]"
   ]
  },
  {
   "cell_type": "markdown",
   "id": "29805dc4",
   "metadata": {},
   "source": [
    " **Pregunta 1: ¿Cuántos tipos de productos hay en el inventario inicial?**\n",
    "\n"
   ]
  },
  {
   "cell_type": "markdown",
   "id": "a8eb680f",
   "metadata": {},
   "source": [
    "No queda claro que quiero decir tipos de productos. \n",
    "- Desde el punto de vista de la programación (tipos de datos) son cadenas de texto guardados en una lista. \n",
    "- En caso de referirse a los tipos dentro de la \"tienda\" serían 2, pues serían frutas y verduras.\n",
    "    - Cabe aclarar que estos datos no están definidos como \"frutas\" o \"verduras\", son datos string, el hecho de saber que son \"frutas\" o \"verduras\" requiere conocimiento externo no proporcionado en el código.\n",
    "    Esto se puede afirmar debido a que el código proporcionado solo crea la lista ya con los items, se deduce que son tados  de tipo string por estar entre comillas (\" \"). "
   ]
  },
  {
   "cell_type": "code",
   "execution_count": null,
   "id": "a3c8ee4e",
   "metadata": {},
   "outputs": [],
   "source": [
    "#con la lista\n",
    "inventario = [\"manzanas\", \"bananas\", \"zanahorias\", \"espinacas\", \"brocoli\", \"cebolla\", \"kiwis\"]\n",
    "\n",
    "#se recorre la lista\n",
    "for i in inventario:\n",
    "    #se pide el tipo de dato de cada posición\n",
    "    print(type(i))\n",
    "\n",
    "#el output de este código es:\n",
    "#<class 'str'> repetido 7 veces (uno por cada item)"
   ]
  },
  {
   "cell_type": "markdown",
   "id": "a0d9483f",
   "metadata": {},
   "source": [
    " **Pregunta 2: ¿Qué producto está en la tercera posición del inventario?**"
   ]
  },
  {
   "cell_type": "markdown",
   "id": "c8589482",
   "metadata": {},
   "source": [
    "- Las listas (o los arrays, que no son lo mismo pero son similares) cuentan los items iniciando desde la posición 0, es decir, la posición [0] son manzanas, la [1] bananas, la [2] zanahorias, la [3] espinacas etc.\n",
    "    - Cabe aclarar que tercer elemento y tercera posición son cosas distintas.\n",
    "        - El tercer elemento sería zanahorias\n",
    "        - Mientras que el item en la posición [3] sería espinaca  "
   ]
  },
  {
   "cell_type": "code",
   "execution_count": null,
   "id": "920379ca",
   "metadata": {},
   "outputs": [],
   "source": [
    "#con la lista\n",
    "inventario = [\"manzanas\", \"bananas\", \"zanahorias\", \"espinacas\", \"brocoli\", \"cebolla\", \"kiwis\"]\n",
    "#se guarda el item en la posición 3 de la lista en una variable\n",
    "ter_pos = inventario[3]\n",
    "#se imprime la variable\n",
    "print(f\"el item de la posición 3 es {ter_pos}\")\n",
    "\n",
    "#output\n",
    "#el item de la posición 3 es espinacas"
   ]
  },
  {
   "cell_type": "markdown",
   "id": "672b8275",
   "metadata": {},
   "source": [
    "## Gestión del inventario\n",
    "Un cliente viene y compra todas las bananas.\n",
    "\n",
    "**Pregunta 3: ¿Cómo actualizarías el inventario después de la venta?**\n"
   ]
  },
  {
   "cell_type": "markdown",
   "id": "e97e6be0",
   "metadata": {},
   "source": [
    "- Hay que actualizar la lista recorriendola y borrando todos los items con valor \"bananas\".\n",
    "    - Para esto se necesita recorrer la lista\n",
    "        - Preguntar si el item es \"banana\"\n",
    "            - Si es, se elimina.\n",
    "            - Si no, se continua hasta recorrer todo.\n",
    "    - Luego se muestra la lista para comprobar si efectivamente no hay mas \"bananas\""
   ]
  },
  {
   "cell_type": "code",
   "execution_count": null,
   "id": "ceb49bcf",
   "metadata": {},
   "outputs": [],
   "source": [
    "#con la lista\n",
    "inventario = [\"manzanas\", \"bananas\", \"zanahorias\", \"espinacas\", \"brocoli\", \"cebolla\", \"kiwis\"]\n",
    "\n",
    "#se recorre la lista\n",
    "for i in inventario:\n",
    "    #si el item actual es \"bananas\"\n",
    "    if i == \"bananas\":\n",
    "        #se quitan de la lista con el método remove()\n",
    "        inventario.remove(\"bananas\")\n",
    "\n",
    "#se muestra la lista para corroborar que se eliminaron las bananas\n",
    "print(inventario)\n",
    "#output:\n",
    "#['manzanas', 'zanahorias', 'espinacas', 'brocoli', 'cebolla', 'kiwis']"
   ]
  },
  {
   "cell_type": "markdown",
   "id": "096a141f",
   "metadata": {},
   "source": [
    "Ahora recibes un envío de nuevos productos: \"frutillas\", \"apio\" y \"papas\".\n",
    "\n",
    "**Pregunta 4: ¿Cómo añadirías estos productos al inventario?**\n"
   ]
  },
  {
   "cell_type": "markdown",
   "id": "8c114911",
   "metadata": {},
   "source": [
    "- Es necesario notar que no se pide agregar en ningún orden en especifico, por lo cual se podrían agregar directamente al final con .append() en caso de querer agregar un solo item. Pero como en este caso se quieren agregar 3 items, es mas rapido usar .extend() \n",
    "    - Donde se le pasa una nueva lista conformada por los tres items, que se van a ingresar en ese orden."
   ]
  },
  {
   "cell_type": "code",
   "execution_count": null,
   "id": "ba6069fc",
   "metadata": {},
   "outputs": [],
   "source": [
    "#con la lista\n",
    "inventario = [\"manzanas\", \"bananas\", \"zanahorias\", \"espinacas\", \"brocoli\", \"cebolla\", \"kiwis\"]\n",
    "\n",
    "#se usa el método .extend() y se le pasa una lista con los items a agregar\n",
    "inventario.extend([\"frutillas\", \"apio\", \"papas\"])\n",
    "\n",
    "#se muestra la lista\n",
    "print (inventario)"
   ]
  },
  {
   "cell_type": "markdown",
   "id": "bda6be10",
   "metadata": {},
   "source": [
    "**Pregunta 5: ¿Cómo verificas si las \"papas\" están ahora en el inventario?**\n"
   ]
  },
  {
   "cell_type": "markdown",
   "id": "cb0cd948",
   "metadata": {},
   "source": [
    "- Se puede mostrar todos los items y ver si se ingresaron las papas\n",
    "- Otra forma es usar el operador in para este caso tan simple"
   ]
  },
  {
   "cell_type": "code",
   "execution_count": null,
   "id": "cf6c8026",
   "metadata": {},
   "outputs": [],
   "source": [
    "#con la lista\n",
    "inventario = [\"manzanas\", \"bananas\", \"zanahorias\", \"espinacas\", \"brocoli\", \"cebolla\", \"kiwis\"]\n",
    "#se usa el método .extend() y se le pasa una lista con los items a agregar\n",
    "inventario.extend([\"frutillas\", \"apio\", \"papas\"])\n",
    "\n",
    "#se pregunta si algun valor de la lista es papas\n",
    "if \"papas\" in inventario:\n",
    "    #si hay se muestran\n",
    "    print(\"las papas fueron correctamente ingresadas\")\n",
    "else:\n",
    "    #si no hay, se explica\n",
    "    print(\"las papas no fueron ingresadas correctamente\")"
   ]
  },
  {
   "cell_type": "markdown",
   "id": "5b65ce28",
   "metadata": {},
   "source": [
    "Un agricultor viene con una rara fruta llamada \"dragonfruit\", pero sólo tienes espacio para 7 productos en tu tienda.\n",
    "\n",
    "**Pregunta 6: ¿Cómo decidirías qué producto sacar para hacer espacio para el \"dragonfruit\"?**"
   ]
  },
  {
   "cell_type": "markdown",
   "id": "bd3720d7",
   "metadata": {},
   "source": [
    "- Aca hay muchas respuestas posibles:\n",
    "    - Dependiendo de la temporada del año se pueden elegir un item u otro\n",
    "    - Se puede ver cual de los items es el que la gente menos compra\n",
    "    - En mi caso que soy alergico a los kiwis, sacaria esos\n",
    "    - Se puede ir por \"el que mas letras tenga para ahorrar espacio en el programa\"\n",
    "        - Cabe aclarar que en una lista tan chica el efecto es mínimo\n",
    "- En mi caso me voy a decantar por el ultimo."
   ]
  },
  {
   "cell_type": "code",
   "execution_count": null,
   "id": "e668aa6c",
   "metadata": {},
   "outputs": [],
   "source": [
    "#lista base\n",
    "inventario = [\"manzanas\", \"bananas\", \"zanahorias\", \"espinacas\", \"brocoli\", \"cebolla\", \"kiwis\"]\n",
    "\n",
    "#variable vacia para asignar la fruta con mas caracteres\n",
    "mas_grande = \" \"\n",
    "\n",
    "#se recorre la lista\n",
    "for i in inventario:\n",
    "    #si el item actual de la lista tiene mas caracteres que los guardados en la variable\n",
    "    if len(i) > len (mas_grande):\n",
    "        #se asignan los items\n",
    "        mas_grande = i\n",
    "\n",
    "#se quita el item con mas caracteres\n",
    "inventario.remove(mas_grande)\n",
    "#se agregarn las dragonfruit a la lista\n",
    "inventario.append(\"dragonfruit\")\n",
    "\n",
    "#se muestra lo que se quitó\n",
    "print(f\"se quitaron {mas_grande} de la tienda para poner dragonfruit\")\n"
   ]
  },
  {
   "cell_type": "markdown",
   "id": "9b6e1ea2",
   "metadata": {},
   "source": [
    "## Ordenando el inventario\n",
    "Decides que sería más fácil gestionar el inventario si estuviera ordenado alfabéticamente.\n",
    "\n",
    "**Pregunta 7: ¿Cómo ordenarías el inventario?**\n"
   ]
  },
  {
   "cell_type": "markdown",
   "id": "07939b35",
   "metadata": {},
   "source": [
    "- Se pueden usar .sort (el cual modifica la lista) o .sorted() (el cual no modifica la lista original).\n",
    "- Algo a tener en cuenta es que por defecto estos métodos, van a usar el orden ascii, donde las mayusculas tienen un valor menor a las minusculas, por lo cual \"Zapallo\" va a ir antes que \"avellanas\" en una lista descendente (de mayor a menor).\n",
    "    - para esto se puede usar un .lower para leer todo en minuscula y evitar este problema."
   ]
  },
  {
   "cell_type": "code",
   "execution_count": null,
   "id": "bf99c461",
   "metadata": {},
   "outputs": [],
   "source": [
    "#lista base\n",
    "inventario = [\"manzanas\", \"bananas\", \"zanahorias\", \"espinacas\", \"brocoli\", \"cebolla\", \"kiwis\"]\n",
    "\n",
    "#aca se ordena la lista\n",
    "#el key = str.lower convierte temporalmente todas las mayusculas (si las hubiera) \n",
    "# en minusculas para comparar el valor del caracter.\n",
    "inventario.sort(key = str.lower)\n",
    "\n",
    "#se muestra la lista\n",
    "print(inventario)"
   ]
  },
  {
   "cell_type": "markdown",
   "id": "f8073d09",
   "metadata": {},
   "source": [
    "Un nuevo empleado viene y necesita una copia del inventario para poder reponer los estantes.\n",
    "\n",
    "**Pregunta 8: ¿Cómo proporcionarías una copia del inventario al nuevo empleado, asegurándote de que si el empleado hace cambios en su copia, el inventario original no se vea afectado?**\n"
   ]
  },
  {
   "cell_type": "markdown",
   "id": "9bb11d8c",
   "metadata": {},
   "source": [
    "- Para hacer una copia se puede usar el método .copy() el cual hace una copia exacta de los elementos de la lista.\n",
    "- A la copia se puede modificar lo que se quiera que no va a afectar a la lista original."
   ]
  },
  {
   "cell_type": "code",
   "execution_count": null,
   "id": "243cf505",
   "metadata": {},
   "outputs": [],
   "source": [
    "#lista base\n",
    "inventario = [\"manzanas\", \"bananas\", \"zanahorias\", \"espinacas\", \"brocoli\", \"cebolla\", \"kiwis\"]\n",
    "\n",
    "#se hace la copia del inventario original\n",
    "inventario_2 = inventario.copy()\n",
    "\n",
    "#se le hace cambios al mismo\n",
    "#se quitan los kiwis porque soy alergico\n",
    "inventario_2.remove(\"kiwis\")\n",
    "#se agregan frutillas y papas\n",
    "inventario_2.extend([\"frutillas\", \"papas\"])\n",
    "\n",
    "#se muestra el original\n",
    "print(f\"inventario original {inventario}\")\n",
    "#se muestra la copia con los cambios realizados que no influyen en el original\n",
    "print(f\"copia del inventario con cambios {inventario_2}\")"
   ]
  },
  {
   "cell_type": "markdown",
   "id": "c720777d",
   "metadata": {},
   "source": [
    "# Desafío 2: Ordenar el inventario de libros\n",
    "\n",
    "Como encargado de la biblioteca, necesitas organizar los libros de acuerdo con sus códigos de identificación en orden decreciente, sin modificar la lista original. Se recomienda usar la función sorted(). ¿Por qué es importante no modificar la lista original? ¿Por qué no puedo usar el método sort sobre la lista original?\n"
   ]
  },
  {
   "cell_type": "markdown",
   "id": "9179110d",
   "metadata": {},
   "source": [
    "- Es recomendable usar sorted() en lugar de .sort() porque el primero no modifica el orden de la lista original, mientras que el segundo cambia el orden de la misma.\n",
    "- En caso de querer volver al orden original, si se usa .sort() no va a ser posible volver\n",
    "- Mientras que usando sorted() la lista siempre se mantiene igual, pero se va a mostrar organizada cuando se llame con el método .sorted()"
   ]
  },
  {
   "cell_type": "code",
   "execution_count": null,
   "id": "70e9b3fe",
   "metadata": {},
   "outputs": [],
   "source": [
    "#lista de libros\n",
    "libros = [\"El Gran Gatsby\",\"Cien Años de Soledad\",\"Matar a un Ruiseñor\",\"1984\",\"La Sombra del Viento\"]\n",
    "\n",
    "#se ordenan con sorted\n",
    "ordenados = sorted(libros)\n",
    "\n",
    "#se muestra la lista original, que todavía no se cambió\n",
    "print(f\"lista original: {libros}\")\n",
    "#se muestran los libros ordenados\n",
    "print (f\"libros ordenados: {ordenados}\")\n",
    "\n",
    "#se usa el .sort()\n",
    "libros.sort()\n",
    "#cada vez que se llame a la lista original va a mostrar la lista ordenada\n",
    "print (f\"lista modificada {libros}\")\n"
   ]
  },
  {
   "cell_type": "markdown",
   "id": "9c61f985",
   "metadata": {},
   "source": [
    "# Desafío 3: Caracteres ASCII\n",
    "Eres un desarrollador creando una herramienta educativa que muestra los caracteres ASCII correspondientes a una lista de números. Se recomienda usar la función chr() para convertir los números en caracteres.\n"
   ]
  },
  {
   "cell_type": "code",
   "execution_count": null,
   "id": "d6892efb",
   "metadata": {},
   "outputs": [],
   "source": [
    "#lista con números para pasarlos\n",
    "numeros = [65,66,67,68,69,70,71,72,73]\n",
    "\n",
    "#diccionario vacío para guardar los números y sus valores ascii\n",
    "dic_ascii = {}\n",
    "\n",
    "#se recorre la lista de números\n",
    "for i in numeros:\n",
    "    #se agrega el número actual como key del diccionario\n",
    "    #y se agrega el valor de esa key como el caracter ascii cuyo valor corresponde al número de la key\n",
    "    #esto se hace con chr() que es una función que retorna el caracter ascii del valor especificado\n",
    "    #por ejemplo, del 65 al 90 son las letras de nuesto alfabeto\n",
    "    dic_ascii[i] = chr(i)\n",
    "\n",
    "for i, ii in dic_ascii.items():\n",
    "    print(f\"El número {i} corresponde a {ii} en código ascii\")"
   ]
  },
  {
   "cell_type": "markdown",
   "id": "07ef2544",
   "metadata": {},
   "source": [
    "# Desafío 4: Control de notas de estudiantes\n",
    "Como profesor, necesitas manejar las notas de tus estudiantes. Permite ingresar todas las notas de los estudiantes y realiza varias operaciones con esos datos.\n"
   ]
  },
  {
   "cell_type": "code",
   "execution_count": null,
   "id": "81ced9c4",
   "metadata": {},
   "outputs": [],
   "source": [
    "#Diccionario con estudiantes, se usaron cédulas porque no se repiten\n",
    "#si se usara nombres, hay muchas personas llamadas \"santiago\"\n",
    "#pero 1.234.567-8 (cédula uruguaya ficticia) hay una sola\n",
    "#las cedulas las saco de aca https://picandocodigo.github.io/ci_js/\n",
    "estudiantes = {\n",
    "    \"1.234.567-8\" : 6,\n",
    "    \"2.345.678-9\" : 6,\n",
    "    \"3.456.789-0\" : 6,\n",
    "    \"4.567.890-1\" : 1,\n",
    "    \"5.678.901-2\" : 10,\n",
    "    \"6.789.012-3\": 7\n",
    "}\n",
    "\n",
    "#se pide la cantidad de estudiantes\n",
    "print(\"ingresar el número de estudiantes que se desea agregar\")\n",
    "est_a_ing = int(input())\n",
    "\n",
    "#en base al numero ingresado se recorre este for\n",
    "for i in range(est_a_ing):\n",
    "    #se pide la cédula\n",
    "    print(\"ingresar la cédula con puntos y guión sin espacios\")\n",
    "    ci_est = input()\n",
    "    #se pide la nota\n",
    "    print(f\"ingresar la nota del estudiante con cédula {ci_est}\")\n",
    "    nota_est = int(input())\n",
    "    #se agregan los datos al diccionario\n",
    "    #donde la cedula es la key y la nota es el valor\n",
    "    estudiantes[ci_est] = nota_est"
   ]
  },
  {
   "cell_type": "markdown",
   "id": "0ab60c9e",
   "metadata": {},
   "source": [
    "**Pregunta 1: Calcula el promedio de las notas de la clase. ¿Cómo lo harías?**"
   ]
  },
  {
   "cell_type": "markdown",
   "id": "0beb859c",
   "metadata": {},
   "source": [
    "- Para calcular el promedio se puede usar sum() y len()\n",
    "    - donde se hace la suma de los números (con sum()) y se divide por la cantidad de los mismos(len())\n",
    "- Para hacerlo mas corto, se puede importar el módulo statistics para usar mean\n",
    "    - mean() hace el promedio directamente de los valores que se le pasa a la función"
   ]
  },
  {
   "cell_type": "code",
   "execution_count": null,
   "id": "06722756",
   "metadata": {},
   "outputs": [],
   "source": [
    "#se importa statistics\n",
    "import statistics\n",
    "\n",
    "#se guardan los valores del diccionario en una variable\n",
    "val = estudiantes.values()\n",
    "\n",
    "#se guarda el promedio en otra variable\n",
    "#aca se usa .mean de statistics que hace el promedio de los datos\n",
    "#los valores de las notas se los pase por parámetro a la función mean() con la variable val\n",
    "prom = statistics.mean(val)\n",
    "\n",
    "#muesto el promedio\n",
    "print(f\"el promedio de las notas es {prom}\")"
   ]
  },
  {
   "cell_type": "markdown",
   "id": "99d50388",
   "metadata": {},
   "source": [
    "**Pregunta 2: Encuentra la nota más baja y la más alta. ¿Cómo lo harías?**"
   ]
  },
  {
   "cell_type": "markdown",
   "id": "df02527a",
   "metadata": {},
   "source": [
    "- Se pueden usar dos variables vacias, par luego recorrer la lista/diccionario/tupla y comparar en cada iteración del búcle si el valor actual con las variables para saber cuales son mayores y cuales menores.\n",
    "- También se puede usar min() y max(). Estas buscan el menor y el mayor valor respectivamente."
   ]
  },
  {
   "cell_type": "code",
   "execution_count": null,
   "id": "193f66ff",
   "metadata": {},
   "outputs": [],
   "source": [
    "#se busca el mayor número dentro del diccionario\n",
    "mayor_nota = max(estudiantes.values())\n",
    "#se busca el menor número dentro del diccionario\n",
    "menor_nota = min(estudiantes.values())\n",
    "\n",
    "#se muestran los datos\n",
    "print(f\"la mayor nota es {mayor_nota} y la menor es {menor_nota}\")"
   ]
  },
  {
   "cell_type": "markdown",
   "id": "dff8531d",
   "metadata": {},
   "source": [
    "**Pregunta 3: Identifica la nota que más se repite. ¿Cómo lo harías?**\n",
    "\n",
    "_Nota:_ La función Counter es útil porque simplifica el conteo de elementos en una lista, permitiendo identificar rápidamente la frecuencia de cada nota."
   ]
  },
  {
   "cell_type": "markdown",
   "id": "39467532",
   "metadata": {},
   "source": [
    "- Se puede usar una variable con valor 0 para ir sumando las iteraciones de cada nota y guardando la que mas se repita\n",
    "- También se puede usar counter() y most_common()\n",
    "    - Se inicializa counter en una variable \n",
    "    - Luego en otra variable se le pasa por parametro la variable de counter() a most_common()\n",
    "    - Finalmente se imprime por pantalla la variable que incializa most_common"
   ]
  },
  {
   "cell_type": "code",
   "execution_count": null,
   "id": "e71cf8fc",
   "metadata": {},
   "outputs": [],
   "source": [
    "#se importa la clase Counter del módulo collections\n",
    "from collections import Counter\n",
    "\n",
    "#se incializa Counter pasandole por parámetro las notas de los estudiantes\n",
    "cont = Counter(estudiantes.values())\n",
    "\n",
    "#se inicializa el método most_common pidiendole el número que mas se repite, por eso se especifica el (1)\n",
    "#este método devuelve una lista de tuplas, donde están almacenados el valor que mas se repite y su frecuencia\n",
    "#en este caso, es (6,3) donde 6 es la nota y el 3 es las veces que se repite\n",
    "mas_comun = cont.most_common(1)\n",
    "\n",
    "#se imprime por pantalla la nota que mas se repite\n",
    "#cuando se llama a mas_comun se agrega [0] y [0]\n",
    "#donde el primer [0] está accediendo al primer conjunto de datos (los datos de la posición 0) \n",
    "# de las tuplas creadas por most_common\n",
    "#el segundo [0] está accediendo al primer valor de la tupla a la que accede el primer [0]\n",
    "#digamos que el 6 se repite 4 veces, el 5 3 y el 4 2.\n",
    "#si se usa most_common(3) va a generar una tupla con estos valores (6,4,5,3,4,2)\n",
    "#el primer [0] accede a los dos primeros valores (6,3)\n",
    "#el segundo [0] accede al primer valor (6)\n",
    "print(f\"la nota que mas se repite es {mas_comun[0][0]}\")"
   ]
  },
  {
   "cell_type": "markdown",
   "id": "859ac88f",
   "metadata": {},
   "source": [
    "**Pregunta 4 (Plus): Realiza un gráfico de barras con las notas. ¿Cómo lo harías?**\n",
    "\n",
    "_Nota:_ La biblioteca matplotlib.pyplot es útil porque proporciona funciones fáciles de usar para crear visualizaciones de datos, como gráficos de barras, que pueden ayudar a visualizar la distribución de las notas de manera clara y comprensible."
   ]
  },
  {
   "cell_type": "code",
   "execution_count": null,
   "id": "c9cabe3f",
   "metadata": {},
   "outputs": [],
   "source": [
    "#esto se lo pedi a chatgpt que me ayudara porque la verdad que es la primera vez que veo esto\n",
    "#los comentarios si son completamente mios\n",
    "\n",
    "#aca se importa el módulo pyplot de la librería matplotlib y el as plt es para poder llamarlo de forma mas concisa\n",
    "#en vez de llamarlo asi matplotlib.pyplot.plot()\n",
    "#se llama asi plt.plot()\n",
    "#ejemplo cortesía de google\n",
    "import matplotlib.pyplot as plt\n",
    "\n",
    "#usando el counter se cuentan las distintas notas y se guardan en una lista llamada notas\n",
    "#aca no está contando las keys del diccionario de estudiantes\n",
    "#cont ya tiene guardadas las notas, estas son las keys del counter no del diccionario\n",
    "notas = list(cont.keys())\n",
    "#aca está contando la cantidad de estudiantes que sacaron cada nota\n",
    "#no está contando los values del diccionario\n",
    "frec = list(cont.values())\n",
    "\n",
    "#aca se usa la librería y el módulo importados para hacer un gráfico de barras con bar()\n",
    "#notas es la lista con las notas\n",
    "#frec es la lista que tiene la frecuencia con la que cada nota aparece\n",
    "#color es el color de la barra\n",
    "#edgecolor es el color de los bordes de la barra\n",
    "plt.bar(notas, frec, color = \"red\", edgecolor = \"black\")\n",
    "\n",
    "#esto es el titulo del gráfico\n",
    "plt.title(\"Frecuencia de notas de los estudiantes\")\n",
    "#esto es el nombre del eje x (horizontal)\n",
    "plt.xlabel(\"Nota\")\n",
    "#esto es el nombre del eje y (vertical)\n",
    "plt.ylabel(\"Cantidad de estudiantes\")\n",
    "#esto son las números (las notas de los alumnos en este caso) q\n",
    "# ue aparecen a lo largo del eje (horizontal en este caso)\n",
    "plt.xticks(notas)\n",
    "\n",
    "#muestra el gráfico\n",
    "plt.show"
   ]
  }
 ],
 "metadata": {
  "kernelspec": {
   "display_name": "Python 3",
   "language": "python",
   "name": "python3"
  },
  "language_info": {
   "codemirror_mode": {
    "name": "ipython",
    "version": 3
   },
   "file_extension": ".py",
   "mimetype": "text/x-python",
   "name": "python",
   "nbconvert_exporter": "python",
   "pygments_lexer": "ipython3",
   "version": "3.13.2"
  }
 },
 "nbformat": 4,
 "nbformat_minor": 5
}
