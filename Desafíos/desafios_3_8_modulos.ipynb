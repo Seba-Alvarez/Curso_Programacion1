{
 "cells": [
  {
   "cell_type": "markdown",
   "id": "feea5dd0",
   "metadata": {},
   "source": [
    "**Desafio 0:**\n",
    "\n",
    "Utiliza el módulo `random` para crear un programa que genere un número aleatorio entre 1 y 100."
   ]
  },
  {
   "cell_type": "markdown",
   "id": "e5bb487e",
   "metadata": {},
   "source": [
    "**Desafío 1:**\n",
    "\n",
    "Investiga y utiliza al menos tres funciones del módulo `string` que puedan ser útiles para mejorar nuestro procesador de texto."
   ]
  },
  {
   "cell_type": "markdown",
   "id": "77533b78",
   "metadata": {},
   "source": [
    "**Desafío 2:**\n",
    "\n",
    "Utiliza el módulo `random` de Python para crear un programa que genere una contraseña aleatoria de 8 caracteres que incluya letras minúsculas, letras mayúsculas y números."
   ]
  },
  {
   "cell_type": "markdown",
   "id": "73455647",
   "metadata": {},
   "source": [
    "**Desafío 3:**\n",
    "\n",
    "Crea un módulo personalizado que contenga funciones para cambiar el formato del texto (por ejemplo, a negrita, itálica, etc.) e impórtalo en un nuevo programa."
   ]
  },
  {
   "cell_type": "markdown",
   "id": "fe52caca",
   "metadata": {},
   "source": [
    "**Desafío 4:**\n",
    "\n",
    "Utiliza el módulo `collections` para analizar un texto y generar estadísticas avanzadas, \n",
    "como las 10 palabras más comunes y su frecuencia. \n",
    "Extiende esto creando un gráfico de barras con matplotlib para visualizar la frecuencia de las palabras."
   ]
  },
  {
   "cell_type": "markdown",
   "id": "edc3bd0a",
   "metadata": {},
   "source": [
    "**Desafío 5:**\n",
    "\n",
    "Utiliza el módulo `os` para interactuar con el sistema operativo y añade características como guardar un archivo o leer un archivo existente en nuestro procesador de texto."
   ]
  },
  {
   "cell_type": "markdown",
   "id": "16ee3a39",
   "metadata": {},
   "source": [
    "**Desafio 6:**\n",
    "\n",
    "Calculadora de Fechas\n",
    "Objetivo:\n",
    "Escribir un programa en Python que permita calcular la diferencia entre dos fechas, utilizando el módulo `datetime.`"
   ]
  }
 ],
 "metadata": {
  "language_info": {
   "name": "python"
  }
 },
 "nbformat": 4,
 "nbformat_minor": 5
}
