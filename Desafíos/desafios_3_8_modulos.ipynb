{
 "cells": [
  {
   "cell_type": "markdown",
   "id": "feea5dd0",
   "metadata": {},
   "source": [
    "**Desafio 0:**\n",
    "\n",
    "Utiliza el módulo `random` para crear un programa que genere un número aleatorio entre 1 y 100."
   ]
  },
  {
   "cell_type": "code",
   "execution_count": null,
   "id": "aa6acfd2",
   "metadata": {},
   "outputs": [],
   "source": [
    "#random es un módulo nativo, pero hay que importarlo igual para acceder a sus métodos y funciones\n",
    "import random\n",
    "\n",
    "#se definen los números\n",
    "num_1 = 1\n",
    "num_2 = 100\n",
    "\n",
    "#se define una función que va a tomar dos números como argumentos\n",
    "def num_random(numero_1, numero_2):\n",
    "    #se retorna un número aleatoreo entre el primer número y el segundo\n",
    "    #randint pide el inicio y el final (incluido el número final) \n",
    "    #En este caso el 1 y el 100 pueden salir\n",
    "    return random.randint(numero_1, numero_2)\n",
    "\n",
    "#se le pasan los números (predefinidos en este caso) a la función y se muestra con un print\n",
    "#se muestra el número random generado por pantalla\n",
    "print(num_random(num_1, num_2))\n"
   ]
  },
  {
   "cell_type": "markdown",
   "id": "e5bb487e",
   "metadata": {},
   "source": [
    "**Desafío 1:**\n",
    "\n",
    "Investiga y utiliza al menos tres funciones del módulo `string` que puedan ser útiles para mejorar nuestro procesador de texto."
   ]
  },
  {
   "cell_type": "code",
   "execution_count": null,
   "id": "4889c163",
   "metadata": {},
   "outputs": [],
   "source": [
    "import procesador_texto as pt\n",
    "\n",
    "numero_prueba = 100000000000\n",
    "cadena_de_prueba = \"esternocleidomastoideo es el nombre de un músculo\"\n",
    "cadena_true = \"Hola, me llamo Nabucodonosor\"\n",
    "cadena_false = \"Привет\"\n",
    "\n",
    "print(pt.numeros_mas_legibles(numero_prueba))\n",
    "print(pt.formato_titulo(cadena_de_prueba))\n",
    "print(pt.ascii_validos(cadena_true))\n",
    "print(pt.ascii_validos(cadena_false))"
   ]
  },
  {
   "cell_type": "markdown",
   "id": "77533b78",
   "metadata": {},
   "source": [
    "**Desafío 2:**\n",
    "\n",
    "Utiliza el módulo `random` de Python para crear un programa que genere una contraseña aleatoria de 8 caracteres que incluya letras minúsculas, letras mayúsculas y números."
   ]
  },
  {
   "cell_type": "code",
   "execution_count": null,
   "id": "a9e43b0c",
   "metadata": {},
   "outputs": [],
   "source": [
    "import random\n",
    "import string\n",
    "\n",
    "#se guardan en una variable los caracteres permitidos (en este caso letras y números)\n",
    "caracteres = string.ascii_letters + string.digits\n",
    "\n",
    "#se genera una contraseña de forma aleatorea\n",
    "# \"\" es para crear un string vacio\n",
    "#k=8 es la cantidad de elementos que va a generar\n",
    "#esos elementos los va a sacar (en este caso) de los caracteres posibles guardados en la variable caracteres\n",
    "#random.choices(caracteres, k=8) devuelve listas\n",
    "#entonces se crea un string vacio con \"\" y se usa join() para unir los elementos  de la lista generada\n",
    "#todo eso se guarda en una variable que se imprime por pantalla mas abajo\n",
    "contraseña = \"\".join(random.choices(caracteres, k=8))\n",
    "\n",
    "print(f\"tu contraseña es: {contraseña}\")"
   ]
  },
  {
   "cell_type": "markdown",
   "id": "73455647",
   "metadata": {},
   "source": [
    "**Desafío 3:**\n",
    "\n",
    "Crea un módulo personalizado que contenga funciones para cambiar el formato del texto (por ejemplo, a negrita, itálica, etc.) e impórtalo en un nuevo programa."
   ]
  },
  {
   "cell_type": "code",
   "execution_count": null,
   "id": "a1f62f93",
   "metadata": {},
   "outputs": [],
   "source": [
    "import formato_texto as ft\n",
    "\n",
    "texto_prueba = \"hola, me llamo Esternocleidomastoideo, pero me dicen Ester de cariño\"\n",
    "\n",
    "print(ft.italica(texto_prueba))\n",
    "print(ft.negrita(texto_prueba))\n",
    "print(ft.subrayado(texto_prueba))\n",
    "print(ft.tachado(texto_prueba))"
   ]
  },
  {
   "cell_type": "markdown",
   "id": "fe52caca",
   "metadata": {},
   "source": [
    "**Desafío 4:**\n",
    "\n",
    "Utiliza el módulo `collections` para analizar un texto y generar estadísticas avanzadas, \n",
    "como las 10 palabras más comunes y su frecuencia. \n",
    "Extiende esto creando un gráfico de barras con matplotlib para visualizar la frecuencia de las palabras."
   ]
  },
  {
   "cell_type": "code",
   "execution_count": null,
   "id": "01deeb24",
   "metadata": {},
   "outputs": [],
   "source": [
    "from collections import Counter\n",
    "import string\n",
    "import matplotlib.pyplot as plt\n",
    "\n",
    "texto = \"\"\"En la vida del hombre, el tiempo juega un papel fundamental. \n",
    "La vida no se mide solo por los años vividos, sino por el valor que cada instante tiene. \n",
    "Un hombre puede vivir muchos años, pero si no aprovecha su tiempo, su vida pierde sentido. \n",
    "El tiempo es un recurso que no se puede recuperar. \n",
    "Por eso, el hombre sabio valora su tiempo y cuida su vida. \n",
    "La vida es frágil, y el tiempo no espera a nadie. \n",
    "Un hombre que entiende esto busca vivir con propósito, porque solo así su vida y su tiempo cobran verdadero significado.\"\"\"\n",
    "\n",
    "#se transforman todos las letras a minuscula\n",
    "#translate retorna un string\n",
    "#maketrans remplaza los carracteres especificados y se los pasa a translate\n",
    "#make trans pide 3 argumentos\n",
    "#los caracteres que se quiere remplazar, con que se quieren remplazar y los que se quieren borrar\n",
    "#entonces se esta modificando el texto para quitar los simbolos de puntuación y ese nuevo texto limpio\n",
    "#se guarda en una variable\n",
    "#\"\",\"\" esta mandando None, pero se le tiene que pasar algo como argumento a la función\n",
    "texto_limpio = texto.lower().translate(str.maketrans(\"\",\"\", string.punctuation))\n",
    "\n",
    "#usando .split() se está pasando el string que es el texto en una lista con palabras separadas\n",
    "palabras = texto_limpio.split()\n",
    "\n",
    "#aca usando el Counter de collections se cuenta cada palabra\n",
    "contador = Counter(palabras)\n",
    "\n",
    "#usando most_common se muestran las 6 palabras mas comunes y cuantas veces aparecen\n",
    "#estas estan guardadas en una tupla\n",
    "repetidas = contador.most_common(6)\n",
    "\n",
    "#usando la tupla en la variable repetidas\n",
    "#zip esta tomando los valores guardados en repetidas y esta asignando las palabras en pal_grafica y\n",
    "#la cantidad de veces que aparecen esas palabras en frecuencia\n",
    "pal_grafica, frecuencia = zip(*repetidas)\n",
    "\n",
    "#aca se crea el grafico de barras usando matplotlib\n",
    "#usando la función bar, se le pasan lo que dice la palabra y cuantas veces aparece la misma\n",
    "plt.bar(pal_grafica, frecuencia)\n",
    "\n",
    "#estas son etiquetas para la gráfica\n",
    "#el titulo\n",
    "plt.title(\"las 3 palabras más comunes\")\n",
    "#la etiqueta del eje x\n",
    "plt.xlabel(\"palabras\")\n",
    "#la etiqueta del eje y\n",
    "plt.ylabel(\"frecuencia\")\n",
    "\n",
    "#se muestra el gráfico\n",
    "plt.show()"
   ]
  },
  {
   "cell_type": "markdown",
   "id": "edc3bd0a",
   "metadata": {},
   "source": [
    "**Desafío 5:**\n",
    "\n",
    "Utiliza el módulo `os` para interactuar con el sistema operativo y añade características como guardar un archivo o leer un archivo existente en nuestro procesador de texto."
   ]
  },
  {
   "cell_type": "code",
   "execution_count": null,
   "id": "c07bdc69",
   "metadata": {},
   "outputs": [],
   "source": [
    "import procesador_texto as pt\n",
    "\n",
    "texto = pt.leer_texto(\"prueba_1\")\n",
    "print(f\"cantidad de palabras: {pt.contar_palabras(texto)}\")\n",
    "print(f\"validación ascii: {pt.ascii_validos(texto)}\")"
   ]
  },
  {
   "cell_type": "markdown",
   "id": "16ee3a39",
   "metadata": {},
   "source": [
    "**Desafio 6:**\n",
    "\n",
    "Calculadora de Fechas\n",
    "Objetivo:\n",
    "Escribir un programa en Python que permita calcular la diferencia entre dos fechas, utilizando el módulo `datetime.`"
   ]
  }
 ],
 "metadata": {
  "kernelspec": {
   "display_name": "Python 3",
   "language": "python",
   "name": "python3"
  },
  "language_info": {
   "codemirror_mode": {
    "name": "ipython",
    "version": 3
   },
   "file_extension": ".py",
   "mimetype": "text/x-python",
   "name": "python",
   "nbconvert_exporter": "python",
   "pygments_lexer": "ipython3",
   "version": "3.13.2"
  }
 },
 "nbformat": 4,
 "nbformat_minor": 5
}
