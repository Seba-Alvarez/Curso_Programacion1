{
 "cells": [
  {
   "cell_type": "markdown",
   "id": "feea5dd0",
   "metadata": {},
   "source": [
    "**Desafio 0:**\n",
    "\n",
    "Utiliza el módulo `random` para crear un programa que genere un número aleatorio entre 1 y 100."
   ]
  },
  {
   "cell_type": "code",
   "execution_count": null,
   "id": "aa6acfd2",
   "metadata": {},
   "outputs": [
    {
     "name": "stdout",
     "output_type": "stream",
     "text": [
      "21\n"
     ]
    }
   ],
   "source": [
    "#random es un módulo nativo, pero hay que importarlo igual para acceder a sus métodos y funciones\n",
    "import random\n",
    "\n",
    "#se definen los números\n",
    "num_1 = 1\n",
    "num_2 = 100\n",
    "\n",
    "#se define una función que va a tomar dos números como argumentos\n",
    "def num_random(numero_1, numero_2):\n",
    "    #se retorna un número aleatoreo entre el primer número y el segundo\n",
    "    #randint pide el inicio y el final (incluido el número final) \n",
    "    #En este caso el 1 y el 100 pueden salir\n",
    "    return random.randint(numero_1, numero_2)\n",
    "\n",
    "#se le pasan los números (predefinidos en este caso) a la función y se muestra con un print\n",
    "#se muestra el número random generado por pantalla\n",
    "print(num_random(num_1, num_2))\n"
   ]
  },
  {
   "cell_type": "markdown",
   "id": "e5bb487e",
   "metadata": {},
   "source": [
    "**Desafío 1:**\n",
    "\n",
    "Investiga y utiliza al menos tres funciones del módulo `string` que puedan ser útiles para mejorar nuestro procesador de texto."
   ]
  },
  {
   "cell_type": "code",
   "execution_count": null,
   "id": "eabb8c1b",
   "metadata": {},
   "outputs": [
    {
     "name": "stdout",
     "output_type": "stream",
     "text": [
      "8\n",
      "Ortografía verificada.\n",
      "     El procesamiento de texto en Python es poderoso.     \n"
     ]
    }
   ],
   "source": []
  },
  {
   "cell_type": "markdown",
   "id": "77533b78",
   "metadata": {},
   "source": [
    "**Desafío 2:**\n",
    "\n",
    "Utiliza el módulo `random` de Python para crear un programa que genere una contraseña aleatoria de 8 caracteres que incluya letras minúsculas, letras mayúsculas y números."
   ]
  },
  {
   "cell_type": "markdown",
   "id": "73455647",
   "metadata": {},
   "source": [
    "**Desafío 3:**\n",
    "\n",
    "Crea un módulo personalizado que contenga funciones para cambiar el formato del texto (por ejemplo, a negrita, itálica, etc.) e impórtalo en un nuevo programa."
   ]
  },
  {
   "cell_type": "markdown",
   "id": "fe52caca",
   "metadata": {},
   "source": [
    "**Desafío 4:**\n",
    "\n",
    "Utiliza el módulo `collections` para analizar un texto y generar estadísticas avanzadas, \n",
    "como las 10 palabras más comunes y su frecuencia. \n",
    "Extiende esto creando un gráfico de barras con matplotlib para visualizar la frecuencia de las palabras."
   ]
  },
  {
   "cell_type": "markdown",
   "id": "edc3bd0a",
   "metadata": {},
   "source": [
    "**Desafío 5:**\n",
    "\n",
    "Utiliza el módulo `os` para interactuar con el sistema operativo y añade características como guardar un archivo o leer un archivo existente en nuestro procesador de texto."
   ]
  },
  {
   "cell_type": "markdown",
   "id": "16ee3a39",
   "metadata": {},
   "source": [
    "**Desafio 6:**\n",
    "\n",
    "Calculadora de Fechas\n",
    "Objetivo:\n",
    "Escribir un programa en Python que permita calcular la diferencia entre dos fechas, utilizando el módulo `datetime.`"
   ]
  }
 ],
 "metadata": {
  "kernelspec": {
   "display_name": "Python 3",
   "language": "python",
   "name": "python3"
  },
  "language_info": {
   "codemirror_mode": {
    "name": "ipython",
    "version": 3
   },
   "file_extension": ".py",
   "mimetype": "text/x-python",
   "name": "python",
   "nbconvert_exporter": "python",
   "pygments_lexer": "ipython3",
   "version": "3.13.2"
  }
 },
 "nbformat": 4,
 "nbformat_minor": 5
}
