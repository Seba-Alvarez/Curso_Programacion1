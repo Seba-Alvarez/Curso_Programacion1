{
 "cells": [
  {
   "cell_type": "markdown",
   "metadata": {},
   "source": [
    "# 1. Introducción\n",
    "La resolución de problemas es una de las habilidades fundamentales en programación. Es la capacidad de diseñar una solución sistemática y eficiente para un problema dado, y luego implementarla en un lenguaje de programación como Python. Este tema abarca los conceptos esenciales y las técnicas utilizadas para abordar problemas de manera efectiva.\n",
    "\n",
    "# 2. Proceso de Resolución de Problemas\n",
    "El proceso de resolución de problemas puede dividirse en varias etapas, cada una de las cuales es crucial para desarrollar una solución eficaz:\n",
    "\n",
    "Comprender el problema: Antes de intentar resolver un problema, es vital comprenderlo completamente. Esto implica leer y analizar el enunciado del problema, identificar los datos de entrada y salida, y determinar las restricciones y los requisitos.\n",
    "\n",
    "Planificar la solución: Una vez que se entiende el problema, el siguiente paso es planificar una solución. Esto puede implicar la creación de un algoritmo o un conjunto de pasos que se deben seguir para resolver el problema.\n",
    "\n",
    "Dividir el problema: A menudo, los problemas complejos pueden ser divididos en subproblemas más pequeños y manejables. Esta técnica, conocida como \"divide y vencerás\", facilita el desarrollo y la implementación de la solución.\n",
    "\n",
    "Desarrollar un algoritmo: Un algoritmo es una secuencia finita de pasos bien definidos que resuelven un problema específico. Los algoritmos deben ser claros, precisos y eficientes.\n",
    "\n",
    "Implementar la solución: Una vez que se ha desarrollado un algoritmo, el siguiente paso es implementarlo en un lenguaje de programación. En nuestro caso, utilizaremos Python para este propósito.\n",
    "\n",
    "Probar y depurar: Después de implementar la solución, es importante probarla con diferentes casos de prueba para asegurar que funcione correctamente. Si se encuentran errores, deben ser depurados y corregidos.\n",
    "\n",
    "Documentar y refactorizar: Finalmente, es útil documentar el código y, si es necesario, refactorizarlo para mejorar su legibilidad y eficiencia.\n",
    "\n",
    "# 3. Algoritmos y Pseudocódigo\n",
    "Un algoritmo es una serie de pasos lógicos y finitos que conducen a la solución de un problema. El pseudocódigo es una herramienta utilizada para representar estos algoritmos de manera informal, sin la sintaxis estricta de un lenguaje de programación específico.\n",
    "\n",
    "Ejemplo de Pseudocódigo:\n",
    "\n",
    "Imaginemos que queremos crear un algoritmo para encontrar el número máximo en una lista de números. El pseudocódigo podría ser algo así:\n",
    "\n",
    "```textplain\n",
    "Inicio\n",
    "   Definir una lista de números\n",
    "   Definir una variable maximo y asignarle el primer número de la lista\n",
    "   Para cada número en la lista\n",
    "      Si el número es mayor que maximo\n",
    "         Asignar el valor de número a maximo\n",
    "   Fin para\n",
    "   Retornar maximo\n",
    "Fin"
   ]
  },
  {
   "cell_type": "markdown",
   "metadata": {},
   "source": [
    "## 3.5 Compilar un pseudocódigo"
   ]
  },
  {
   "cell_type": "markdown",
   "metadata": {},
   "source": [
    "Compilar un pseudocódigo es el proceso mediante el cual transformamos una representación abstracta y legible para los humanos de un algoritmo en un formato más estructurado, que pueda ser ejecutado o probado en un entorno computacional. A diferencia de los lenguajes de programación tradicionales, el pseudocódigo no se ejecuta directamente por una máquina, sino que se utiliza como una herramienta de diseño y planificación. Sin embargo, para ponerlo a prueba o convertirlo en un programa funcional, se requiere traducirlo a un lenguaje de programación o utilizar herramientas que simulen su ejecución.\n",
    "\n",
    "Existen varias herramientas que permiten \"compilar\" pseudocódigo, es decir, convertirlo en un formato que se asemeje más a un código ejecutable o, al menos, ofrecer una representación visual de su funcionamiento. Algunas de estas herramientas son PSeInt, que permite escribir pseudocódigo en un entorno gráfico y simular su ejecución paso a paso. También se puede utilizar Visualg, que es similar y facilita la comprensión de la estructura del pseudocódigo al permitir la ejecución de algoritmos con una interfaz sencilla. Estas plataformas ayudan a los estudiantes y programadores a visualizar cómo se comporta un algoritmo antes de implementarlo en un lenguaje de programación real.\n",
    "\n",
    "Aunque el pseudocódigo no tiene una sintaxis estricta como los de los procesos y asegurarse de que los algoritmos sean claros y funcionales antes de pasar a un lenguaje de programación real. Esto facilita la transición de una idea abstracta a una solución práctica que pueda ser ejecutada por una computadora. La \"compilación\" de pseudocódigo no es un proceso en el sentido tradicional de los lenguajes de programación, pero es una forma de simular y validar el comportamiento del algoritmo de manera visual y comprensible.\n",
    "\n",
    "Algunas herramientas que facilitan este proceso de compilación de pseudocódigo incluyen PSeInt, una plataforma ampliamente utilizada para escribir y ejecutar pseudocódigo. Esta herramienta permite simular la ejecución de algoritmos escritos en un formato sencillo, sin necesidad de tener conocimientos avanzados de programación. Otra opción popular es Visualg, que proporciona una interfaz similar para escribir pseudocódigo y ejecutarlo paso a paso. Ambas herramientas permiten a los usuarios ver cómo se desarrollan las variables, los ciclos y las condiciones dentro del algoritmo, proporcionando una comprensión más clara de su funcionamiento.\n",
    "\n",
    "Además de PSeInt y Visualg, existen otros entornos de desarrollo y simuladores de pseudocódigo que permiten a los usuarios experimentar con diferentes estructuras algorítmicas sin necesidad de compilar código real. Herramientas como Code::Blocks o Algo++ también brindan la capacidad de trabajar con pseudocódigo y ayudan a los programadores novatos a mejorar su comprensión de la lógica antes de que se adentren en la codificación propiamente dicha. Estas plataformas son especialmente útiles en el ámbito educativo, ya que proporcionan un entorno controlado en el que los estudiantes pueden explorar, corregir y optimizar sus algoritmos sin enfrentarse a la complejidad de los lenguajes de programación tradicionales."
   ]
  },
  {
   "cell_type": "markdown",
   "metadata": {},
   "source": [
    "# 4. Implementación en Python\n",
    "El pseudocódigo anterior se puede implementar en Python de la siguiente manera:"
   ]
  },
  {
   "cell_type": "code",
   "execution_count": null,
   "metadata": {},
   "outputs": [],
   "source": [
    "#se define la funcion para buscar un número maximo en una lista\n",
    "def encontrar_maximo(lista):\n",
    "    maximo = lista[0]\n",
    "    for numero in lista:\n",
    "        if numero > maximo:\n",
    "            maximo = numero\n",
    "    return maximo\n",
    "#lista = [3, 5, 7, 2, 8, 1, 4]\n",
    "#maximo = 8\n",
    "#numero = 4"
   ]
  },
  {
   "cell_type": "markdown",
   "metadata": {},
   "source": [
    "La función encontrar_maximo recibe un argumento llamado (lista)\n",
    "Y devuelve el valor de la variable maximo. maximo, en este caso es un valor de la lista (lista).\n",
    "La linea maximo = lista[0] asigna a la variable maximo el primer valor de la lista.\n",
    "En la linea for numero in lista: se recorre la lista y se asigna a numero el valor actual del elemento de la lista.\n",
    "La linea if numero > maximo: compara el valor de numero con el valor de maximo.\n",
    "maximo=numero asigna el valor de numero a maximo.\n",
    "return maximo, retorna al ser invocada la funcion el valor de maximo.\n"
   ]
  },
  {
   "cell_type": "code",
   "execution_count": 16,
   "metadata": {},
   "outputs": [
    {
     "name": "stdout",
     "output_type": "stream",
     "text": [
      "El número máximo es: zzzzz\n"
     ]
    }
   ],
   "source": [
    "# Ejemplo de uso\n",
    "# numeros = [3, 5, 7, 2, 8, 1, 4]\n",
    "numeros=[\"zzzzz\", \"zzz\", \"zz\"]\n",
    "maximo = encontrar_maximo(numeros)\n",
    "print(\"El número máximo es:\", maximo)"
   ]
  },
  {
   "cell_type": "markdown",
   "metadata": {},
   "source": [
    "# 5. Estrategias de Resolución de Problemas\n",
    "Existen varias estrategias que se pueden emplear para resolver problemas de programación. Algunas de las más comunes incluyen:\n",
    "\n",
    "Top-down: Esta estrategia implica descomponer el problema en subproblemas más pequeños y resolver cada uno de ellos de manera secuencial. Es una técnica útil para problemas complejos que pueden dividirse en partes independientes.\n",
    "\n",
    "Bottom-up: En esta estrategia, se resuelven primero los subproblemas más pequeños y se utilizan sus soluciones para construir la solución del problema principal. Es útil cuando los subproblemas tienen dependencias entre sí.\n",
    "\n",
    "Recursión: La recursión es una técnica en la que una función se llama a sí misma para resolver subproblemas más pequeños del mismo tipo. Es especialmente útil para problemas que se pueden dividir en problemas similares de menor tamaño.\n",
    "\n",
    "Programación dinámica: Esta técnica se utiliza para resolver problemas complejos dividiéndolos en subproblemas más pequeños y almacenando las soluciones de los subproblemas para evitar cálculos repetitivos. Es útil para problemas que tienen una estructura de superposición de subproblemas.\n",
    "\n",
    "Greedy: \n",
    "\"Es difícil, si no imposible, definir con precisión qué se entiende por un algoritmo greedy. Un algoritmo es greedy si construye una solución en pequeños pasos, eligiendo una decisión en cada paso de manera miope para optimizar algún criterio subyacente.\"\n",
    "Referencia APA:\n",
    "Kleinberg, J., & Tardos, É. (2005). Algorithm Design (p. 116). Pearson.\n",
    "\n",
    "El algoritmo Greedy es una estrategia de resolución de problemas que construye una solución en pequeños pasos, tomando decisiones óptimas locales en cada paso con el objetivo de optimizar un criterio subyacente. Este enfoque miope implica elegir, en cada etapa, la opción que parece la mejor en ese momento sin considerar el impacto a largo plazo. Para implementarlo, primero se define el criterio de optimización. Luego, se procede iterativamente eligiendo la opción que maximiza (o minimiza) este criterio hasta que se completa la solución. Aunque no siempre garantiza la solución óptima global, el algoritmo Greedy es valioso por su simplicidad y eficiencia en una variedad de problemas, como la selección de intervalos, la construcción de árboles de expansión mínimos y la codificación de Huffman.\n",
    "\n",
    "# 6. Ejemplos de Problemas y Algoritmos\n",
    "A continuación, se presentan algunos ejemplos de problemas y algoritmos para ilustrar cómo se pueden aplicar las técnicas y estrategias de resolución de problemas.\n",
    "\n",
    "## Ejemplo 1: Encontrar el máximo común divisor (MCD)\n",
    "El problema consiste en encontrar el máximo común divisor de dos números. Un algoritmo conocido para resolver este problema es el algoritmo de Euclides.\n",
    "\n",
    "Pseudocódigo:\n",
    "\n",
    "```textplain\n",
    "Inicio\n",
    "   Definir dos números a y b\n",
    "   Mientras b no sea cero\n",
    "      Asignar a el valor de b\n",
    "      Asignar a b el residuo de a dividido por b\n",
    "   Fin mientras\n",
    "   Retornar a\n",
    "Fin\n",
    "Implementación en Python:\n",
    "\n",
    "\n"
   ]
  },
  {
   "cell_type": "code",
   "execution_count": null,
   "metadata": {},
   "outputs": [],
   "source": [
    "def mcd(a, b):\n",
    "    while b != 0:\n",
    "        a, b = b, a % b\n",
    "    return a\n",
    "\n",
    "# Ejemplo de uso\n",
    "a = 48\n",
    "b = 18\n",
    "resultado = mcd(a, b)\n",
    "print(\"El MCD de\", a, \"y\", b, \"es:\", resultado)"
   ]
  },
  {
   "cell_type": "markdown",
   "metadata": {},
   "source": [
    "## Ejemplo 2: Ordenar una lista de números utilizando el algoritmo de selección\n",
    "El problema consiste en ordenar una lista de números en orden ascendente. El algoritmo de selección es un algoritmo simple que encuentra el elemento mínimo en cada iteración y lo coloca en la posición correcta.\n",
    "\n",
    "Pseudocódigo:\n",
    "\n",
    "```textplain\n",
    "Inicio\n",
    "   Para cada elemento en la lista\n",
    "      Encontrar el elemento mínimo en la sublista no ordenada\n",
    "      Intercambiar el elemento mínimo con el primer elemento de la sublista no ordenada\n",
    "   Fin para\n",
    "Fin\n",
    "Implementación en Python:\n"
   ]
  },
  {
   "cell_type": "code",
   "execution_count": null,
   "metadata": {},
   "outputs": [],
   "source": [
    "def ordenar_seleccion(lista):\n",
    "    for i in range(len(lista)):\n",
    "        min_index = i\n",
    "        for j in range(i + 1, len(lista)):\n",
    "            if lista[j] < lista[min_index]:\n",
    "                min_index = j\n",
    "        lista[i], lista[min_index] = lista[min_index], lista[i]\n",
    "    return lista\n",
    "\n",
    "# Ejemplo de uso\n",
    "numeros = [64, 25, 12, 22, 11]\n",
    "ordenados = ordenar_seleccion(numeros)\n",
    "print(\"Lista ordenada:\", ordenados)"
   ]
  },
  {
   "cell_type": "markdown",
   "metadata": {},
   "source": [
    "# Desafío 1: Suma de los primeros n números naturales\n",
    "Descripción: Escribe un algoritmo que calcule la suma de los primeros n números naturales.\n",
    "\n",
    "# Desafío 2: Número de elementos pares en una lista\n",
    "Descripción: Escribe un algoritmo que cuente el número de elementos pares en una lista de números."
   ]
  }
 ],
 "metadata": {
  "kernelspec": {
   "display_name": "Python 3",
   "language": "python",
   "name": "python3"
  },
  "language_info": {
   "codemirror_mode": {
    "name": "ipython",
    "version": 3
   },
   "file_extension": ".py",
   "mimetype": "text/x-python",
   "name": "python",
   "nbconvert_exporter": "python",
   "pygments_lexer": "ipython3",
   "version": "3.13.2"
  }
 },
 "nbformat": 4,
 "nbformat_minor": 2
}
