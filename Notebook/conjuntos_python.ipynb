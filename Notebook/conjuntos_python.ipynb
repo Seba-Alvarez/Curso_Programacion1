{
 "cells": [
  {
   "cell_type": "markdown",
   "id": "5740044f",
   "metadata": {},
   "source": [
    "Python tiene un tipo de dato nativo para manejar conjuntos llamado set, estos son los métodos que soporta:\n",
    "- Intersección\n",
    "    - A ∩ B\n",
    "- Unión\n",
    "    - A ∪ B\n",
    "- Resta o diferencia\n",
    "    - A - B\n",
    "- Diferencia simétrica\n",
    "    - A △ B ó A ⊕ B\n",
    "- Subconjunto\n",
    "    - A ⊆ B\n",
    "- Superconjunto\n",
    "    - A ⊇ B\n",
    "- Igualdad\n",
    "    - A = B\n",
    "- Conjuntos disjuntos\n",
    "    - A ∩ B = ∅\n",
    "\n",
    "[Link a la documentación oficial de python](https://docs.python.org/3/library/stdtypes.html#set)"
   ]
  },
  {
   "cell_type": "code",
   "execution_count": null,
   "id": "274ce7d2",
   "metadata": {},
   "outputs": [],
   "source": [
    "A = {1, 2, 3, 4}\n",
    "B = {0, 1, 2, 5}\n",
    "\n",
    "interseccion = A & B \n",
    "\n",
    "union = A | B\n",
    "\n",
    "diferencia = A - B \n",
    "\n",
    "diferencia_simetrica = A ^ B\n",
    "\n",
    "subconjunto = A <= B  \n",
    "\n",
    "superconjunto = A >= B\n",
    "\n",
    "igualdad = A == B\n",
    "\n",
    "conjuntos_disjuntos = A.isdisjoint(B) "
   ]
  },
  {
   "cell_type": "markdown",
   "id": "ca81fe42",
   "metadata": {},
   "source": [
    "- Además matplotlib tiene una libreria en particular para trabajar con diagramas de Venn.\n",
    "Para instalarla hay que hacer el comando: \n",
    "    \n",
    "    - pip install matplotlib matplotlib-venn\n",
    "- Ese paquete permite la creación de diagramas de Venn con dos (2) o tres (3) conjuntos. No es un diagrama de Venn si tiene un solo conjunto y si tiene mas de 3 no es un diagrama clásico (existen librerias para hacer diagramas con mas de tres, pero matplotlib no lo maneja).\n"
   ]
  },
  {
   "cell_type": "code",
   "execution_count": null,
   "id": "68c97624",
   "metadata": {},
   "outputs": [],
   "source": [
    "#para crear un diagrama de 2 conjuntos\n",
    "from matplotlib_venn import venn2\n",
    "import matplotlib.pyplot as plt\n",
    "\n",
    "A = {1, 2, 3}\n",
    "B = {2, 3, 4}\n",
    "\n",
    "venn2([A, B], set_labels=('A', 'B'))\n",
    "plt.show()"
   ]
  },
  {
   "cell_type": "code",
   "execution_count": null,
   "id": "ca0efbbe",
   "metadata": {},
   "outputs": [],
   "source": [
    "#para crear un diagrama de 3 conjuntos\n",
    "from matplotlib_venn import venn3\n",
    "import matplotlib.pyplot as plt\n",
    "\n",
    "A = {1, 2, 3}\n",
    "B = {2, 3, 4}\n",
    "C = {2, 5, 6}\n",
    "\n",
    "venn3([A, B, C], set_labels=('A', 'B', 'C'))\n",
    "plt.show()"
   ]
  },
  {
   "cell_type": "markdown",
   "id": "00415a6b",
   "metadata": {},
   "source": [
    "- Cabe aclarar que los diagramas se pueden crear de otra forma, pero la mas clara me parece pasandole los conjuntos, en lugar de una tupla con los números.\n",
    "\n",
    "- Se pueden personalizar los lables y el diagrama, pero en terminos de funcionalidad es solo para la creación y visualización de los diagramas.\n",
    "\n",
    "[Link al github oficial de matplotlib-venn](https://github.com/konstantint/matplotlib-venn)"
   ]
  }
 ],
 "metadata": {
  "kernelspec": {
   "display_name": "Python 3",
   "language": "python",
   "name": "python3"
  },
  "language_info": {
   "codemirror_mode": {
    "name": "ipython",
    "version": 3
   },
   "file_extension": ".py",
   "mimetype": "text/x-python",
   "name": "python",
   "nbconvert_exporter": "python",
   "pygments_lexer": "ipython3",
   "version": "3.13.2"
  }
 },
 "nbformat": 4,
 "nbformat_minor": 5
}
