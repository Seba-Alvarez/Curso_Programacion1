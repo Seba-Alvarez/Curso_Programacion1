{
 "cells": [
  {
   "cell_type": "markdown",
   "id": "b5ef3eb3",
   "metadata": {},
   "source": [
    "<h4>Para pasar inputs a booleanos</h4>"
   ]
  },
  {
   "cell_type": "code",
   "execution_count": null,
   "id": "381c07eb",
   "metadata": {},
   "outputs": [],
   "source": [
    "def input_bool():\n",
    "    while True:\n",
    "        res = input().strip().lower()\n",
    "        if res == 'v':\n",
    "            return True\n",
    "        elif res == 'f':\n",
    "            return False\n",
    "        else:\n",
    "            print(\"Ingresar 'v' o 'f'.\")"
   ]
  },
  {
   "cell_type": "markdown",
   "id": "ee8bf633",
   "metadata": {},
   "source": [
    "<h4> Tabla 1 </h4>"
   ]
  },
  {
   "cell_type": "markdown",
   "id": "c4eaebd7",
   "metadata": {},
   "source": [
    "| \\( p \\) | \\( q \\) | \\( p $\\land$ q \\) | \\( p $\\rightarrow $ (p $\\land$ q)\\) |\n",
    "|:-------:|:-------:|:---------------:|:-------------------------------:|\n",
    "|   T     |   T     |        T        |                T                |\n",
    "|   T     |   F     |        F        |                F                |\n",
    "|   F     |   T     |        F        |                T                |\n",
    "|   F     |   F     |        F        |                T                |\n"
   ]
  },
  {
   "cell_type": "markdown",
   "id": "759d312d",
   "metadata": {},
   "source": [
    "Originalmente yo pensaba que era una tautología, pero al pasarlo a código me di cuenta que no lo es."
   ]
  },
  {
   "cell_type": "code",
   "execution_count": null,
   "id": "c1009645",
   "metadata": {},
   "outputs": [
    {
     "name": "stdout",
     "output_type": "stream",
     "text": [
      "Ingresar 'v' o 'f'\n",
      "ingresar p\n",
      "ingresar q\n",
      "La proposición es falsa\n"
     ]
    }
   ],
   "source": [
    "print(\"Ingresar 'v' o 'f'\")\n",
    "\n",
    "print(\"ingresar p\")\n",
    "p = input_bool()\n",
    "print(\"ingresar q\")\n",
    "q = input_bool()\n",
    "\n",
    "if p and q:\n",
    "    result = True\n",
    "else:\n",
    "    result = False\n",
    "\n",
    "con = p and q\n",
    "imp = (not p) or con\n",
    "if imp:\n",
    "    print(\"La proposición es verdadera\")\n",
    "else:\n",
    "    print(\"La proposición es falsa\")"
   ]
  },
  {
   "cell_type": "markdown",
   "id": "15e96884",
   "metadata": {},
   "source": [
    "<h4> Tabla 2 </h4>"
   ]
  },
  {
   "cell_type": "markdown",
   "id": "45778f5f",
   "metadata": {},
   "source": [
    "| \\( p \\) | \\( q \\) | \\( p $\\lor$ q \\) | \\( $\\lnot$ q \\) | \\( (p $\\lor$ q) $\\land$ $\\lnot$ q \\) |\n",
    "|:-------:|:-------:|:--------------:|:-------------:|:------------------------------:|\n",
    "|   T     |   T     |       T        |       F       |              F                 |\n",
    "|   T     |   F     |       T        |       T       |              F                 |\n",
    "|   F     |   T     |       T        |       F       |              F                 |\n",
    "|   F     |   F     |       F        |       T       |              F                 |"
   ]
  },
  {
   "cell_type": "markdown",
   "id": "e6d89737",
   "metadata": {},
   "source": [
    "Resultó ser que esta es una contradicción."
   ]
  },
  {
   "cell_type": "code",
   "execution_count": null,
   "id": "5e7b65ca",
   "metadata": {},
   "outputs": [],
   "source": [
    "print(\"Ingresar 'v' o 'f'\")\n",
    "\n",
    "print(\"ingresar p\")\n",
    "p = input_bool()\n",
    "print(\"ingresar q\")\n",
    "q = input_bool()\n",
    "\n",
    "prop_1 = p or q\n",
    "prop_2 = not q\n",
    "prop_3 = prop_1 and prop_2\n",
    "\n",
    "if prop_3:\n",
    "    print(\"La proposición es verdadera\")\n",
    "else:\n",
    "    print(\"La proposición es falsa\")"
   ]
  },
  {
   "cell_type": "markdown",
   "id": "b8df163d",
   "metadata": {},
   "source": [
    "<h4> Tabla 3 </h4>"
   ]
  },
  {
   "cell_type": "markdown",
   "id": "51194112",
   "metadata": {},
   "source": [
    "| \\( p \\) | \\( q \\) | \\( p $\\lor$ q \\) | \\( $\\lnot$ p \\) | \\( (p $\\lor$ q) $\\rightarrow$ $\\lnot$ p \\) |\n",
    "|:-------:|:-------:|:--------------:|:-------------:|:------------------------------------:|\n",
    "|   T     |   T     |       T        |       F       |                  F                   |\n",
    "|   T     |   F     |       T        |       F       |                  F                   |\n",
    "|   F     |   T     |       T        |       T       |                  T                   |\n",
    "|   F     |   F     |       F        |       T       |                  T                   |\n"
   ]
  },
  {
   "cell_type": "markdown",
   "id": "35dee5a6",
   "metadata": {},
   "source": [
    "Esta fue la unica que sobrevivió el pasaje a código, es decir, que la escribi igual a mano que con código."
   ]
  },
  {
   "cell_type": "code",
   "execution_count": null,
   "id": "8534fc91",
   "metadata": {},
   "outputs": [],
   "source": [
    "print(\"Ingresar 'v' o 'f'\")\n",
    "\n",
    "print(\"ingresar p\")\n",
    "p = input_bool()\n",
    "print(\"ingresar q\")\n",
    "q = input_bool()\n",
    "\n",
    "prop_1 = p or q\n",
    "prop_2 = not p\n",
    "prop_3 = (not prop_1) or prop_2\n",
    "\n",
    "\n",
    "if prop_3:\n",
    "    print(\"La proposición es verdadera\")\n",
    "else:\n",
    "    print(\"La proposición es falsa\")"
   ]
  },
  {
   "cell_type": "markdown",
   "id": "f7af539d",
   "metadata": {},
   "source": [
    "<h4> Tabla Deberes </h4>"
   ]
  },
  {
   "cell_type": "markdown",
   "id": "a64212d3",
   "metadata": {},
   "source": [
    "| \\( p \\) | \\( q \\) | \\( r \\) | \\( (p $\\lor$ $\\neg$ q) $\\land$ (r $\\rightarrow$ p) \\) |\n",
    "|:-------:|:-------:|:-------:|:--------------------------------------------:|\n",
    "|   F     |   F     |   F     |                     V                        |\n",
    "|   F     |   F     |   V     |                     F                        |\n",
    "|   F     |   V     |   F     |                     F                        |\n",
    "|   F     |   V     |   V     |                     F                        |\n",
    "|   V     |   F     |   F     |                     V                        |\n",
    "|   V     |   F     |   V     |                     V                        |\n",
    "|   V     |   V     |   F     |                     V                        |\n",
    "|   V     |   V     |   V     |                     V                        |\n",
    "\n"
   ]
  },
  {
   "cell_type": "code",
   "execution_count": null,
   "id": "91ac789f",
   "metadata": {},
   "outputs": [],
   "source": [
    "print(\"Ingresar 'v' o 'f'\")\n",
    "\n",
    "print(\"ingresar p\")\n",
    "p = input_bool()\n",
    "#print(f\"el valor de p es {p}\")\n",
    "print(\"ingresar q\")\n",
    "q = input_bool()\n",
    "#print(f\"el valor de p es {q}\")\n",
    "print(\"ingresar r\")\n",
    "r = input_bool()\n",
    "#print(f\"el valor de p es {r}\")\n",
    "\n",
    "prop_1 = not q\n",
    "prop_2 = p or prop_1\n",
    "prop_3 = (not r) or p\n",
    "prop_4 = prop_2 and prop_3\n",
    "\n",
    "\n",
    "if prop_4:\n",
    "    print(\"La proposición es verdadera\")\n",
    "else:\n",
    "    print(\"La proposición es falsa\")"
   ]
  }
 ],
 "metadata": {
  "kernelspec": {
   "display_name": "Python 3",
   "language": "python",
   "name": "python3"
  },
  "language_info": {
   "codemirror_mode": {
    "name": "ipython",
    "version": 3
   },
   "file_extension": ".py",
   "mimetype": "text/x-python",
   "name": "python",
   "nbconvert_exporter": "python",
   "pygments_lexer": "ipython3",
   "version": "3.13.2"
  }
 },
 "nbformat": 4,
 "nbformat_minor": 5
}
