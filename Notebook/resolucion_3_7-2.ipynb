{
 "cells": [
  {
   "cell_type": "markdown",
   "id": "4c4b2831",
   "metadata": {},
   "source": [
    "# Desafío 1\n",
    "\n",
    "Considere las matrices $ A $ y $ B $ definidas como:\n",
    "\n",
    "$ A = \\begin{bmatrix} 1 & 2 \\\\ 3 & 4 \\end{bmatrix} $     y     $ B = \\begin{bmatrix} 5 & 6 \\\\ 7 & 8 \\end{bmatrix} $\n",
    "\n",
    "Tu tarea es calcular la matriz resultante de la operación $ (2A + B^T) $. Recuerda que $ B^T $ denota la transposición de la matriz $ B $."
   ]
  },
  {
   "cell_type": "markdown",
   "id": "391c4491",
   "metadata": {},
   "source": [
    "# Desafío 2\n",
    "\n",
    "Dada la matriz $ A = \\begin{bmatrix} 1 & 0 & 1 \\\\ 4 & -1 & 4 \\\\ 5 & 6 & 7 \\end{bmatrix} $, encuentra la traza de la matriz inversa de $ A $."
   ]
  },
  {
   "cell_type": "markdown",
   "id": "bb1d43df",
   "metadata": {},
   "source": [
    "# Desafío 3\n",
    "\n",
    "Dada la matriz $ A = \\begin{bmatrix} 1 & 2 & 3 \\\\ 4 & 5 & 6 \\\\ 7 & 8 & 9 \\end{bmatrix} $, encuentra el rango de la matriz resultante de $ (A + A^T) $."
   ]
  },
  {
   "cell_type": "markdown",
   "id": "b2d9bd06",
   "metadata": {},
   "source": [
    "# Desafío 4: Batalla naval\n",
    "\n",
    "Para este desafío, tendrás que implementar un juego sencillo de \"Batalla Naval\". El tablero de juego será una matriz de 5x5 donde el agua será representada por ceros (0) y los barcos por unos (1).\n",
    "\n",
    "Primero, crea un tablero de juego utilizando NumPy, que será una matriz de ceros de 5x5.\n",
    "\n",
    "Luego, coloca tres barcos en el tablero de juego. Cada barco es un 1 y debes colocarlo en una posición aleatoria en el tablero. No te preocupes por el tamaño de los barcos; cada barco ocupará solo una celda.\n",
    "\n",
    "Finalmente, crea una función que acepte dos argumentos (las coordenadas x, y), y que verifique si en esa posición hay un barco (1) o agua (0). La función debe imprimir un mensaje indicando si se golpeó un barco o si el disparo cayó al agua."
   ]
  },
  {
   "cell_type": "markdown",
   "id": "f9565771",
   "metadata": {},
   "source": [
    "# Desafío 5: Crear una simulación de \"vida artificial\" en un tablero de juego (matriz)\n",
    "En este desafío, implementarás una simulación del famoso Juego de la vida de Conway. Se trata de un autómata celular desarrollado por el matemático británico John Horton Conway en 1970. Es un juego de cero jugadores, lo que significa que su evolución se determina por su estado inicial, sin necesidad de más entradas humanas.\n",
    "\n",
    "### Objetivos del problema\n",
    "Crear el Tablero de Juego:\n",
    "\n",
    "Implementa una función para crear un tablero de juego de dimensiones n x m, donde cada celda puede estar viva (1) o muerta (0). Inicializa el tablero con un patrón inicial.\n",
    "\n",
    "### Definir las reglas del juego:\n",
    "\n",
    "Cada celda en el tablero tiene 8 vecinos. Las reglas para la evolución del estado de las celdas son:\n",
    "Una celda viva con menos de dos celdas vecinas vivas muere por subpoblación.\n",
    "Una celda viva con dos o tres celdas vecinas vivas sigue viva en la siguiente generación.\n",
    "Una celda viva con más de tres celdas vecinas vivas muere por sobrepoblación.\n",
    "Una celda muerta con exactamente tres celdas vecinas vivas se convierte en una celda viva por reproducción.\n",
    "\n",
    "### Simular la evolución:\n",
    "\n",
    "Implementa una función para actualizar el tablero siguiendo las reglas del juego. Esta función debería generar la nueva configuración del tablero después de un número específico de iteraciones.\n",
    "\n",
    "### Visualizar la simulación:\n",
    "\n",
    "Utiliza Matplotlib para visualizar la evolución del tablero a lo largo de las iteraciones. Muestra cada estado del tablero como una imagen en una animación."
   ]
  }
 ],
 "metadata": {
  "language_info": {
   "name": "python"
  }
 },
 "nbformat": 4,
 "nbformat_minor": 5
}
