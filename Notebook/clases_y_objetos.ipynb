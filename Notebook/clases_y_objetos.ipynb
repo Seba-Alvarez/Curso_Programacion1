{
 "cells": [
  {
   "cell_type": "markdown",
   "id": "a3becfcd",
   "metadata": {},
   "source": [
    "Para empezar, para entender que es un objeto hay que adentrarse en la P.O.O u O.O.P, que significa programación orientada a objetos (o object oriented programming en inglés). Las clases son \"planos\" o \"moldes\" que sirven para crear objetos. Los objetos son entidades concretas de una clase (de los \"planos\" o \"moldes\"). Estas entidades (los objetos) tienen tanto atributtos (los datos de la clase) como métodos (funciones que actuan sobre los atributos).Las clases pueden estar definidas por el usuario o por el mismo lenguaje.\n",
    "\n",
    "Para crear una clase se usa la palabra reserbada class y el nombre de la clase en mayuscula y con camel casing, seguido de : (dos puntos).\n",
    "La palabra def, sirve para definir una función o un método (una función dentro de una clase). En este caso está definiendo el constructor de la clase persona. El cual (en python) es __init __, este lleva los dos guiones bajos por convención. Este se llama de forma automática cuando se crea un nuevo objeto/instancia. Además sirve para configurar los valores que va a contener cada clase. Self es la instancia actual del objeto de la clase, permite acceder a los atributos y métodos del objeto dentro de la clase.\n",
    "Al hacer self.nombre = nombre se asignando el valor del parámetro nom_atributo al atributo del objeto self.nombre"
   ]
  },
  {
   "cell_type": "code",
   "execution_count": null,
   "id": "ef43b94a",
   "metadata": {},
   "outputs": [],
   "source": [
    "class Persona:\n",
    "    def __init__(self, nombre, apellido):\n",
    "        self.nombre = nombre\n",
    "        self.apellido = apellido"
   ]
  },
  {
   "cell_type": "markdown",
   "id": "ba8a2d37",
   "metadata": {},
   "source": [
    " La forma clasica de entenderlo es con el ejemplo un perro.\n",
    "   - La clase \"perro\", puede tener atributos (datos sobre la clase) como raza, nombre y edad. Así mismo, puede tener un método ladrar() (va con paréntesis porque es una función, es decir, en este caso, un comportamiento de la clase \"perro\").\n",
    "       - Para poner un ejemplo concreto:\n",
    "           - Un objeto de la clase \"perro\" sería un perro especifico. Este perro es un \"golden\", se llama \"mario\" y tiene \"2 años\". Como la clase \"perro\" tiene el método ladrar, esto permite que sus instancias (objetos, el perro \"mario\" en este caso) puedan acceder al método, en este caso, para ladrar."
   ]
  },
  {
   "cell_type": "code",
   "execution_count": null,
   "id": "987c441e",
   "metadata": {},
   "outputs": [],
   "source": [
    "#Definimos la clase Perro con mayuscula\n",
    "class Perro:\n",
    "    def __init__(self, raza, nombre, edad):\n",
    "        #atributos del perro: raza, nombre y edad\n",
    "        self.raza = raza      \n",
    "        self.nombre = nombre  \n",
    "        self.edad = edad      \n",
    "\n",
    "    #Método para ladrar\n",
    "    #Asi es el comportamiento/accionar del perro\n",
    "    def ladrar(self):\n",
    "        print(f\"{self.nombre} dice: ¡Guau!\")\n",
    "\n",
    "#Creamos un objeto específico de la clase Perro\n",
    "#es decir, usando el plano(la clase) creamos un perro con determinadas características (un objeto)\n",
    "# Este es un perro de raza \"Golden\", se llama \"Mario\", y tiene 2 años\n",
    "mario = Perro(\"Golden\", \"Mario\", 2)\n",
    "\n",
    "#Asi se acceden a los atributos de una clase.\n",
    "print(f\"Nombre: {mario.nombre}\")   \n",
    "print(f\"Raza: {mario.raza}\")       \n",
    "print(f\"Edad: {mario.edad} años\")  \n",
    "\n",
    "#Asi Mario puede ladrar usando el método de su clase\n",
    "mario.ladrar()\n"
   ]
  },
  {
   "cell_type": "markdown",
   "id": "bc53bb48",
   "metadata": {},
   "source": [
    "- Cabe aclarar una cosa, una instancia y un objeto son en muchos casos lo mismo. Pero, como todo en programación tiene cierto matiz. Un objeto, es la entidad concreta que se crea, y se almacena, en memoria a partir de una clase. Es el resultado de la creación. Mientras que una instancia es el acto de crear un objeto a partir de una clase.\n",
    "    - Es decir, un objeto es el resultado final de la creación (del mismo objeto) y una instancia es la forma de describir que ese objeto proviene de cierta clase.\n",
    "        - Cabe aclarar, que un muchos contextos (y especialmente en código) suelen referirse a lo mismo, la diferencia es mas visible de forma teórica que en la práctica."
   ]
  }
 ],
 "metadata": {
  "language_info": {
   "name": "python"
  }
 },
 "nbformat": 4,
 "nbformat_minor": 5
}
