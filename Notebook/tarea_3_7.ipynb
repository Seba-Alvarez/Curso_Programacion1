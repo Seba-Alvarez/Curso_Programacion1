{
 "cells": [
  {
   "cell_type": "markdown",
   "id": "38f434cb",
   "metadata": {},
   "source": [
    "# Desafío: Control de notas de estudiantes\n",
    "Como profesor, necesitas manejar las notas de tus estudiantes. Permite ingresar todas las notas de los estudiantes y realiza varias operaciones con esos datos.\n"
   ]
  },
  {
   "cell_type": "code",
   "execution_count": null,
   "id": "c45e0d62",
   "metadata": {},
   "outputs": [],
   "source": [
    "#Diccionario con estudiantes, se usaron cédulas porque no se repiten\n",
    "#si se usara nombres, hay muchas personas llamadas \"santiago\"\n",
    "#pero 1.234.567-8 (cédula uruguaya ficticia) hay una sola\n",
    "#las cedulas las saco de aca https://picandocodigo.github.io/ci_js/\n",
    "estudiantes = {\n",
    "    \"1.234.567-8\" : 6,\n",
    "    \"2.345.678-9\" : 6,\n",
    "    \"3.456.789-0\" : 6,\n",
    "    \"4.567.890-1\" : 1,\n",
    "    \"5.678.901-2\" : 10,\n",
    "    \"6.789.012-3\": 7\n",
    "}\n",
    "\n",
    "#se pide la cantidad de estudiantes\n",
    "print(\"ingresar el número de estudiantes que se desea agregar\")\n",
    "est_a_ing = int(input())\n",
    "\n",
    "#en base al numero ingresado se recorre este for\n",
    "for i in range(est_a_ing):\n",
    "    #se pide la cédula\n",
    "    print(\"ingresar la cédula con puntos y guión sin espacios\")\n",
    "    ci_est = input()\n",
    "    #se pide la nota\n",
    "    print(f\"ingresar la nota del estudiante con cédula {ci_est}\")\n",
    "    nota_est = int(input())\n",
    "    #se agregan los datos al diccionario\n",
    "    #donde la cedula es la key y la nota es el valor\n",
    "    estudiantes[ci_est] = nota_est"
   ]
  },
  {
   "cell_type": "markdown",
   "id": "feb4514f",
   "metadata": {},
   "source": [
    "**Pregunta 1: Calcula el promedio de las notas de la clase. ¿Cómo lo harías?**"
   ]
  },
  {
   "cell_type": "markdown",
   "id": "3b62a448",
   "metadata": {},
   "source": [
    "- Para calcular el promedio se puede usar sum() y len()\n",
    "    - donde se hace la suma de los números (con sum()) y se divide por la cantidad de los mismos(len())\n",
    "- Para hacerlo mas corto, se puede importar el módulo statistics para usar mean\n",
    "    - mean() hace el promedio directamente de los valores que se le pasa a la función"
   ]
  },
  {
   "cell_type": "code",
   "execution_count": null,
   "id": "66e01606",
   "metadata": {},
   "outputs": [],
   "source": [
    "#se importa statistics\n",
    "import statistics\n",
    "\n",
    "#se guardan los valores del diccionario en una variable\n",
    "val = estudiantes.values()\n",
    "\n",
    "#se guarda el promedio en otra variable\n",
    "#aca se usa .mean de statistics que hace el promedio de los datos\n",
    "#los valores de las notas se los pase por parámetro a la función mean() con la variable val\n",
    "prom = statistics.mean(val)\n",
    "\n",
    "#muesto el promedio\n",
    "print(f\"el promedio de las notas es {prom}\")"
   ]
  },
  {
   "cell_type": "markdown",
   "id": "35e62957",
   "metadata": {},
   "source": [
    "**Pregunta 2: Encuentra la nota más baja y la más alta. ¿Cómo lo harías?**"
   ]
  },
  {
   "cell_type": "markdown",
   "id": "f987459e",
   "metadata": {},
   "source": [
    "- Se pueden usar dos variables vacias, par luego recorrer la lista/diccionario/tupla y comparar en cada iteración del búcle si el valor actual con las variables para saber cuales son mayores y cuales menores.\n",
    "- También se puede usar min() y max(). Estas buscan el menor y el mayor valor respectivamente."
   ]
  },
  {
   "cell_type": "code",
   "execution_count": null,
   "id": "55364f6e",
   "metadata": {},
   "outputs": [],
   "source": [
    "#se busca el mayor número dentro del diccionario\n",
    "mayor_nota = max(estudiantes.values())\n",
    "#se busca el menor número dentro del diccionario\n",
    "menor_nota = min(estudiantes.values())\n",
    "\n",
    "#se muestran los datos\n",
    "print(f\"la mayor nota es {mayor_nota} y la menor es {menor_nota}\")"
   ]
  },
  {
   "cell_type": "markdown",
   "id": "1f771309",
   "metadata": {},
   "source": [
    "# Desafío: Gestión del stock de la verdulería\n",
    "\n",
    "¡Bienvenido al desafío de la verdulería! Has sido nombrado el nuevo gerente de una tienda de frutas, verduras y hortalizas. Tu tarea será manejar el stock de la tienda utilizando un arreglo. Aquí hay una serie de tareas que tendrás que completar.\n",
    "\n",
    "## Inventario inicial\n",
    "\n",
    "Aquí está el inventario inicial de la tienda:"
   ]
  },
  {
   "cell_type": "code",
   "execution_count": null,
   "id": "aad829bc",
   "metadata": {},
   "outputs": [],
   "source": [
    "inventario = [\"manzanas\", \"bananas\", \"zanahorias\", \"espinacas\", \"brocoli\", \"cebolla\", \"kiwis\"]"
   ]
  },
  {
   "cell_type": "markdown",
   "id": "d288aa7f",
   "metadata": {},
   "source": [
    " **Pregunta 1: ¿Cuántos tipos de productos hay en el inventario inicial?**\n",
    "\n"
   ]
  },
  {
   "cell_type": "markdown",
   "id": "5027cfea",
   "metadata": {},
   "source": [
    "No queda claro que quiero decir tipos de productos. \n",
    "- Desde el punto de vista de la programación, los tipos de datos (en este caso) son cadenas de texto guardados en una lista. \n",
    "    - Se puede afirmar debido a que el código proporcionado solo crea la lista ya con los items, se deduce que son tados  de tipo string por estar entre comillas (\" \"). \n",
    "- En caso de referirse a los tipos dentro de la \"tienda\" serían 2, pues serían frutas y verduras.\n",
    "    - Cabe aclarar que estos datos no están definidos como \"frutas\" o \"verduras\", son datos string, el hecho de saber que son \"frutas\" o \"verduras\" requiere conocimiento externo no proporcionado en el código."
   ]
  },
  {
   "cell_type": "code",
   "execution_count": null,
   "id": "aefcbd90",
   "metadata": {},
   "outputs": [],
   "source": [
    "#con la lista\n",
    "inventario = [\"manzanas\", \"bananas\", \"zanahorias\", \"espinacas\", \"brocoli\", \"cebolla\", \"kiwis\"]\n",
    "\n",
    "#se recorre la lista\n",
    "for i in inventario:\n",
    "    #se pide el tipo de dato de cada posición\n",
    "    print(type(i))\n",
    "\n",
    "#el output de este código es:\n",
    "#<class 'str'> repetido 7 veces (uno por cada item)"
   ]
  },
  {
   "cell_type": "markdown",
   "id": "592e62dc",
   "metadata": {},
   "source": [
    " **Pregunta 2: ¿Qué producto está en la tercera posición del inventario?**"
   ]
  },
  {
   "cell_type": "markdown",
   "id": "361a2ae4",
   "metadata": {},
   "source": [
    "- Las listas (o los arrays, que no son lo mismo pero son similares) cuentan los items iniciando desde la posición 0, es decir, la posición [0] son manzanas, la [1] bananas, la [2] zanahorias, la [3] espinacas etc.\n",
    "    - Cabe aclarar que tercer elemento y tercera posición son cosas distintas.\n",
    "        - El tercer elemento sería zanahorias\n",
    "        - Mientras que el item en la posición [3] sería espinaca  "
   ]
  },
  {
   "cell_type": "code",
   "execution_count": null,
   "id": "cd4fc381",
   "metadata": {},
   "outputs": [],
   "source": [
    "#con la lista\n",
    "inventario = [\"manzanas\", \"bananas\", \"zanahorias\", \"espinacas\", \"brocoli\", \"cebolla\", \"kiwis\"]\n",
    "#se guarda el item en la posición 3 de la lista en una variable\n",
    "ter_pos = inventario[3]\n",
    "#se imprime la variable\n",
    "print(f\"el item de la posición 3 es {ter_pos}\")\n",
    "\n",
    "#output\n",
    "#el item de la posición 3 es espinacas"
   ]
  },
  {
   "cell_type": "markdown",
   "id": "dba0e27b",
   "metadata": {},
   "source": [
    "## Gestión del inventario\n",
    "Un cliente viene y compra todas las bananas.\n",
    "\n",
    "**Pregunta 3: ¿Cómo actualizarías el inventario después de la venta?**\n"
   ]
  },
  {
   "cell_type": "markdown",
   "id": "27c254d3",
   "metadata": {},
   "source": [
    "- Hay que actualizar la lista recorriendola y borrando todos los items con valor \"bananas\".\n",
    "    - Para esto se necesita recorrer la lista\n",
    "        - Preguntar si el item es \"banana\"\n",
    "            - Si es, se elimina.\n",
    "            - Si no, se continua hasta recorrer todo.\n",
    "    - Luego se muestra la lista para comprobar si efectivamente no hay mas \"bananas\""
   ]
  },
  {
   "cell_type": "code",
   "execution_count": null,
   "id": "276d33a8",
   "metadata": {},
   "outputs": [],
   "source": [
    "#con la lista\n",
    "inventario = [\"manzanas\", \"bananas\", \"zanahorias\", \"espinacas\", \"brocoli\", \"cebolla\", \"kiwis\"]\n",
    "\n",
    "#se recorre la lista\n",
    "for i in inventario:\n",
    "    #si el item actual es \"bananas\"\n",
    "    if i == \"bananas\":\n",
    "        #se quitan de la lista con el método remove()\n",
    "        inventario.remove(\"bananas\")\n",
    "\n",
    "#se muestra la lista para corroborar que se eliminaron las bananas\n",
    "print(inventario)\n",
    "#output:\n",
    "#['manzanas', 'zanahorias', 'espinacas', 'brocoli', 'cebolla', 'kiwis']"
   ]
  },
  {
   "cell_type": "markdown",
   "id": "802616c0",
   "metadata": {},
   "source": [
    "Ahora recibes un envío de nuevos productos: \"frutillas\", \"apio\" y \"papas\".\n",
    "\n",
    "**Pregunta 4: ¿Cómo añadirías estos productos al inventario?**\n"
   ]
  },
  {
   "cell_type": "markdown",
   "id": "a20977c1",
   "metadata": {},
   "source": [
    "- Es necesario notar que no se pide agregar en ningún orden en especifico, por lo cual se podrían agregar directamente al final con .append() en caso de querer agregar un solo item. Pero como en este caso se quieren agregar 3 items, es mas rapido usar .extend() \n",
    "    - Donde se le pasa una nueva lista conformada por los tres items, que se van a ingresar en ese orden."
   ]
  },
  {
   "cell_type": "code",
   "execution_count": null,
   "id": "c82193f8",
   "metadata": {},
   "outputs": [],
   "source": [
    "#con la lista\n",
    "inventario = [\"manzanas\", \"bananas\", \"zanahorias\", \"espinacas\", \"brocoli\", \"cebolla\", \"kiwis\"]\n",
    "\n",
    "#se usa el método .extend() y se le pasa una lista con los items a agregar\n",
    "inventario.extend([\"frutillas\", \"apio\", \"papas\"])\n",
    "\n",
    "#se muestra la lista\n",
    "print (inventario)"
   ]
  },
  {
   "cell_type": "markdown",
   "id": "34532d9e",
   "metadata": {},
   "source": [
    "**Pregunta 5: ¿Cómo verificas si las \"papas\" están ahora en el inventario?**\n"
   ]
  },
  {
   "cell_type": "markdown",
   "id": "35e17a8d",
   "metadata": {},
   "source": [
    "- Se puede mostrar todos los items y ver si se ingresaron las papas\n",
    "- Otra forma es usar el operador in para este caso tan simple"
   ]
  },
  {
   "cell_type": "code",
   "execution_count": null,
   "id": "aca752e6",
   "metadata": {},
   "outputs": [],
   "source": [
    "#con la lista\n",
    "inventario = [\"manzanas\", \"bananas\", \"zanahorias\", \"espinacas\", \"brocoli\", \"cebolla\", \"kiwis\"]\n",
    "#se usa el método .extend() y se le pasa una lista con los items a agregar\n",
    "inventario.extend([\"frutillas\", \"apio\", \"papas\"])\n",
    "\n",
    "#se pregunta si algun valor de la lista es papas\n",
    "if \"papas\" in inventario:\n",
    "    #si hay se muestran\n",
    "    print(\"las papas fueron correctamente ingresadas\")\n",
    "else:\n",
    "    #si no hay, se explica\n",
    "    print(\"las papas no fueron ingresadas correctamente\")"
   ]
  },
  {
   "cell_type": "markdown",
   "id": "571f75cf",
   "metadata": {},
   "source": [
    "Un agricultor viene con una rara fruta llamada \"dragonfruit\", pero sólo tienes espacio para 7 productos en tu tienda.\n",
    "\n",
    "**Pregunta 6: ¿Cómo decidirías qué producto sacar para hacer espacio para el \"dragonfruit\"?**"
   ]
  },
  {
   "cell_type": "markdown",
   "id": "7d844608",
   "metadata": {},
   "source": [
    "- Aca hay muchas respuestas posibles:\n",
    "    - Dependiendo de la temporada del año se pueden elegir un item u otro\n",
    "    - Se puede ver cual de los items es el que la gente menos compra\n",
    "    - En mi caso que soy alergico a los kiwis, sacaria esos\n",
    "    - Se puede ir por \"el que mas letras tenga para ahorrar espacio en el programa\"\n",
    "        - Cabe aclarar que en una lista tan chica el efecto es mínimo\n",
    "- En mi caso me voy a decantar por el ultimo."
   ]
  },
  {
   "cell_type": "code",
   "execution_count": null,
   "id": "5cba0e0b",
   "metadata": {},
   "outputs": [],
   "source": [
    "#lista base\n",
    "inventario = [\"manzanas\", \"bananas\", \"zanahorias\", \"espinacas\", \"brocoli\", \"cebolla\", \"kiwis\"]\n",
    "\n",
    "#variable vacia para asignar la fruta con mas caracteres\n",
    "mas_grande = \" \"\n",
    "\n",
    "#se recorre la lista\n",
    "for i in inventario:\n",
    "    #si el item actual de la lista tiene mas caracteres que los guardados en la variable\n",
    "    if len(i) > len (mas_grande):\n",
    "        #se asignan los items\n",
    "        mas_grande = i\n",
    "\n",
    "#se quita el item con mas caracteres\n",
    "inventario.remove(mas_grande)\n",
    "#se agregarn las dragonfruit a la lista\n",
    "inventario.append(\"dragonfruit\")\n",
    "\n",
    "#se muestra lo que se quitó\n",
    "print(f\"se quitaron {mas_grande} de la tienda para poner dragonfruit\")\n"
   ]
  },
  {
   "cell_type": "markdown",
   "id": "9d718148",
   "metadata": {},
   "source": [
    "## Ordenando el inventario\n",
    "Decides que sería más fácil gestionar el inventario si estuviera ordenado alfabéticamente.\n",
    "\n",
    "**Pregunta 7: ¿Cómo ordenarías el inventario?**\n"
   ]
  },
  {
   "cell_type": "markdown",
   "id": "97c4d7a9",
   "metadata": {},
   "source": [
    "- Se pueden usar .sort (el cual modifica la lista) o .sorted() (el cual no modifica la lista original).\n",
    "- Algo a tener en cuenta es que por defecto estos métodos, van a usar el orden ascii, donde las mayusculas tienen un valor menor a las minusculas, por lo cual \"Zapallo\" va a ir antes que \"avellanas\" en una lista descendente (de mayor a menor).\n",
    "    - para esto se puede usar un .lower para leer todo en minuscula y evitar este problema."
   ]
  },
  {
   "cell_type": "code",
   "execution_count": null,
   "id": "787ccaca",
   "metadata": {},
   "outputs": [],
   "source": [
    "#lista base\n",
    "inventario = [\"manzanas\", \"bananas\", \"zanahorias\", \"espinacas\", \"brocoli\", \"cebolla\", \"kiwis\"]\n",
    "\n",
    "#aca se ordena la lista\n",
    "#el key = str.lower convierte temporalmente todas las mayusculas (si las hubiera) \n",
    "# en minusculas para comparar el valor del caracter.\n",
    "inventario.sort(key = str.lower)\n",
    "\n",
    "#se muestra la lista\n",
    "print(inventario)"
   ]
  },
  {
   "cell_type": "markdown",
   "id": "084715e0",
   "metadata": {},
   "source": [
    "Un nuevo empleado viene y necesita una copia del inventario para poder reponer los estantes.\n",
    "\n",
    "**Pregunta 8: ¿Cómo proporcionarías una copia del inventario al nuevo empleado, asegurándote de que si el empleado hace cambios en su copia, el inventario original no se vea afectado?**\n"
   ]
  },
  {
   "cell_type": "markdown",
   "id": "8927861e",
   "metadata": {},
   "source": [
    "- Para hacer una copia se puede usar el método .copy() el cual hace una copia exacta de los elementos de la lista.\n",
    "- A la copia se puede modificar lo que se quiera que no va a afectar a la lista original."
   ]
  },
  {
   "cell_type": "code",
   "execution_count": null,
   "id": "f0c85dbf",
   "metadata": {},
   "outputs": [],
   "source": [
    "#lista base\n",
    "inventario = [\"manzanas\", \"bananas\", \"zanahorias\", \"espinacas\", \"brocoli\", \"cebolla\", \"kiwis\"]\n",
    "\n",
    "#se hace la copia del inventario original\n",
    "inventario_2 = inventario.copy()\n",
    "\n",
    "#se le hace cambios al mismo\n",
    "#se quitan los kiwis porque soy alergico\n",
    "inventario_2.remove(\"kiwis\")\n",
    "#se agregan frutillas y papas\n",
    "inventario_2.extend([\"frutillas\", \"papas\"])\n",
    "\n",
    "#se muestra el original\n",
    "print(f\"inventario original {inventario}\")\n",
    "#se muestra la copia con los cambios realizados que no influyen en el original\n",
    "print(f\"copia del inventario con cambios {inventario_2}\")"
   ]
  }
 ],
 "metadata": {
  "language_info": {
   "name": "python"
  }
 },
 "nbformat": 4,
 "nbformat_minor": 5
}
