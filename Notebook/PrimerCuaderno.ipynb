{
 "cells": [
  {
   "cell_type": "markdown",
   "metadata": {},
   "source": [
    "<h1>Primeros desafios de programacion 1</h1>\t"
   ]
  },
  {
   "cell_type": "markdown",
   "metadata": {},
   "source": [
    "<em><strong><h4> Desafio numero 1<h4></strong></em>"
   ]
  },
  {
   "cell_type": "markdown",
   "metadata": {},
   "source": [
    "Descripcion: "
   ]
  },
  {
   "cell_type": "markdown",
   "metadata": {},
   "source": [
    "<blockquote>Define dos variables con números específicos asignados por ti.\n",
    "Suma esos dos números y almacena el resultado en una tercera variable.\n",
    "Muestra el resultado de la suma."
   ]
  },
  {
   "cell_type": "code",
   "execution_count": null,
   "metadata": {},
   "outputs": [],
   "source": [
    "#Se declara la primera variable y se pide el primer número\n",
    "print(\"Entre el primer numero: \")\n",
    "var1 = int(input())\n",
    "\n",
    "#Se declara la segunda variable y se pide el segundo número\n",
    "print(\"Entre el segundo numero: \")\n",
    "var2 = int(input())\n",
    "\n",
    "#Se suman las dos variables\n",
    "var3 = var1 + var2\n",
    "#Se imprime por consola el resultado\n",
    "print(\"La suma de:\", var1, \"y:\", var2, \"es:\", var3)"
   ]
  },
  {
   "cell_type": "markdown",
   "metadata": {},
   "source": [
    "<em><strong><h4> Desafio numero 2<h4></strong></em>"
   ]
  },
  {
   "cell_type": "markdown",
   "metadata": {},
   "source": [
    "Descripcion: "
   ]
  },
  {
   "cell_type": "markdown",
   "metadata": {},
   "source": [
    "<blockquote>Define dos variables numéricas que representen el ancho y el largo de un rectángulo.\n",
    "Define variables de tipo string que contengan texto explicativo sobre lo que hace el programa.\n",
    "Calcula el área del rectángulo (ancho x largo).\n",
    "Utiliza tanto variables numéricas como de texto para presentar el resultado de una manera que\n",
    "sea fácil de entender para alguien que no está viendo el código."
   ]
  },
  {
   "cell_type": "code",
   "execution_count": null,
   "metadata": {},
   "outputs": [],
   "source": [
    "# Se pide el largo\n",
    "print(\"Entre el largo del cuadrado: \")\n",
    "var2 = int(input())\n",
    "# Se pide el ancho\n",
    "print(\"Entre el ancho del cuadrado: \")\n",
    "var3 = int(input())\n",
    "# Se hace la cuenta\n",
    "var4 = var2 * var3\n",
    "\n",
    "# Use un\n",
    "print(\"El area de su rectángulo es:\", var4)"
   ]
  }
 ],
 "metadata": {
  "kernelspec": {
   "display_name": "Python 3",
   "language": "python",
   "name": "python3"
  },
  "language_info": {
   "codemirror_mode": {
    "name": "ipython",
    "version": 3
   },
   "file_extension": ".py",
   "mimetype": "text/x-python",
   "name": "python",
   "nbconvert_exporter": "python",
   "pygments_lexer": "ipython3",
   "version": "3.13.2"
  }
 },
 "nbformat": 4,
 "nbformat_minor": 2
}
