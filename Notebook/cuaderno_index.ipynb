{
 "cells": [
  {
   "cell_type": "markdown",
   "id": "dbbc27d3",
   "metadata": {},
   "source": [
    "<h1>Uso de Memoria</h1>"
   ]
  },
  {
   "cell_type": "markdown",
   "id": "de84eee3",
   "metadata": {},
   "source": [
    "Python es muy benevolo y no necesita, como c, manejar la memoria de forma manual. Memory allocation, se define como la asignación de un bloque de espacio en la memoria de un programa en una pc. Esto se hace de forma automática pues existe un Garbage Collector. Este es un proceso donde el interptete libera memoria cuando no está siendo usada por otros objetos. De la misma forma que puede guardar elementos iguales en un mismo espacio de memoria para optimizar el uso de la misma."
   ]
  },
  {
   "cell_type": "markdown",
   "id": "b8a4d8ce",
   "metadata": {},
   "source": [
    "En Python, una lista es una colección ordenada y mutable, que sirve para guardar muchos tipos de items. Las listas pueden contener muchos tipos de items, esto es posible porque guardan referencias en espacios contiguos (uno al lado del otro) de memoria. Cabe aclarar que las listas no guardan elementos en si, guardan referencias a los mismos. Estos pueden situarse en otro lado. Contener y guardar son dos cosas distintas en este contexto.\n",
    "\n",
    "Supongamos que se tiene este código:"
   ]
  },
  {
   "cell_type": "code",
   "execution_count": null,
   "id": "2ec80b7a",
   "metadata": {},
   "outputs": [],
   "source": [
    "#lista que contiene un int, un str y otra lista\n",
    "mi_lista = [10, \"hola\", [1, 2]]\n",
    "\n",
    "#se muestran los ids de la lista con la función id, a la cual se le pasa por parámetro la lista\n",
    "print(\"ID de la lista completa:\", id(mi_lista))\n",
    "\n",
    "#for para mostrar los ids de los elementos de la lista\n",
    "for i, item in enumerate(mi_lista):\n",
    "    #para mostrar todos\n",
    "    print(f\"ID del elemento en mi_lista[{i}] ({item}):\", id(item))\n",
    "\n",
    "\"\"\"\n",
    "Output:\n",
    "ID de la lista completa: 2804715837760\n",
    "ID del elemento en mi_lista[0] (10): 140727962830024\n",
    "ID del elemento en mi_lista[1] (hola): 2804716781408\n",
    "ID del elemento en mi_lista[2] ([1, 2]): 2804717078848\n",
    "\"\"\""
   ]
  },
  {
   "cell_type": "markdown",
   "id": "28f3c720",
   "metadata": {},
   "source": [
    "Esos números que salen son identificadores únicos para los objetos durante su vida. Estas son ubicaciones en la memoria. Esto es en cPython que es la versión mas común de Python, en otras este comportamiento puede cambiar.\n",
    "\n",
    "Python, también, usa referencias internas a objetos, supongamos que se tiene este código:"
   ]
  },
  {
   "cell_type": "code",
   "execution_count": null,
   "id": "0f347756",
   "metadata": {},
   "outputs": [],
   "source": [
    "#una lista llamada a\n",
    "a = [1, 2]\n",
    "#se asigna el valor de a en b\n",
    "b = a\n",
    "#se asigna el valor de b (que es a su vez el de a) en c\n",
    "c = b\n",
    "#se verifica si apuntan al mismo objeto\n",
    "\n",
    "#se muestra si los ids son iguales\n",
    "print(id(a) == id(b))\n",
    "print(id(b) == id(c))\n",
    "\n",
    "#se muestran los ids\n",
    "print(id(a))\n",
    "print(id(b))\n",
    "print(id(c))\n",
    "\n",
    "\"\"\"\n",
    "Output:\n",
    "True\n",
    "True\n",
    "2804717093248\n",
    "2804717093248\n",
    "2804717093248\n",
    "\"\"\""
   ]
  },
  {
   "cell_type": "markdown",
   "id": "e0f33f12",
   "metadata": {},
   "source": [
    "Cada elemento en una lista no está guardado directamente dentro de la estructura de la misma. En relidad, la lista guarda referencias (punteros) a los objetos en la memoria. Las listas son \"contenedores\" con referencias (direcciones) a los valores. Python internamente cra objetos separados para cada objeto, luego los guarda en su memoria con las direcciones dentro de la lista."
   ]
  },
  {
   "cell_type": "markdown",
   "id": "4dde5a77",
   "metadata": {},
   "source": [
    "Ahora, tomando los siguentes métodos:\n",
    "- pop(obj)\n",
    "- remove(obj)\n",
    "- append(obj)\n",
    "- extend(obj)\n",
    "\n",
    "Para empezar, para entender que es un objeto hay que adentrarse en la P.O.O u O.O.P, que significa programación orientada a objetos (o object oriented programming en inglés). Las clases son \"planos\" o \"moldes\" que sirven para crear objetos. Los objetos son entidades concretas de una clase (de los \"planos\" o \"moldes\"). Estas entidades (los objetos) tienen tanto atributtos (los datos de la clase) como métodos (funciones que actuan sobre los atributos).Las clases pueden estar definidas por el usuario o por el mismo lenguaje.\n",
    "- La forma clasica de entenderlo es con el ejemplo un perro.\n",
    "    - La clase \"perro\", puede tener atributos (datos sobre la clase) como raza, nombre y edad. Así mismo, puede tener un método ladrar() (va con paréntesis porque es una función, es decir, en este caso, un comportamiento de la clase \"perro\").\n",
    "        - Para poner un ejemplo concreto:\n",
    "            - Un objeto de la clase \"perro\" sería un perro especifico. Este perro es un \"golden\", se llama \"mario\" y tiene \"2 años\". Como la clase \"perro\" tiene el método ladrar, esto permite que sus instancias (objetos, el perro \"mario\" en este caso) puedan acceder al método, en este caso, para ladrar.\n",
    "- En este contexto, cuando se habla de objetos, se refiere por ejemplo al uso de una cadena de caracteres, que es una instancia de la clase str (string)\n",
    "- Cabe aclarar una cosa, una instancia y un objeto son en muchos casos lo mismo. Pero, como todo en programación tiene cierto matiz. Un objeto, es la entidad concreta que se crea, y se almacena, en memoria a partir de una clase. Es el resultado de la creación. Mientras que una instancia es el acto de crear un objeto a partir de una clase.\n",
    "    - Es decir, un objeto es el resultado final de la creación (del mismo objeto) y una instancia es la forma de describir que ese objeto proviene de cierta clase.\n",
    "        - Cabe aclarar, que un muchos contextos (y especialmente en código) suelen referirse a lo mismo, la diferencia es mas visible de forma teórica que en la práctica."
   ]
  },
  {
   "cell_type": "markdown",
   "id": "24058131",
   "metadata": {},
   "source": [
    "- append(obj) agrega una nueva referencia al final de la lista. La lista crece de forma dinámica, es decir que con agregarle los items aumenta de tamaño sin especificarlo, lo que se esta agregando con append() no se copia ni se mueve, sino que se guarda una referencia en una lista. De forma similar, extend() funciona de la misma manera, es como si \"se hicieran varios appends seguidos\" Como se puede ver en este código (el ejemplo es para append()):"
   ]
  },
  {
   "cell_type": "code",
   "execution_count": null,
   "id": "d1ebe733",
   "metadata": {},
   "outputs": [],
   "source": [
    "#se inicializa una variable num con valor 42\n",
    "num = 42\n",
    "#se crea una lista con 3 elementos\n",
    "lista = [1, 2, 3]\n",
    "#se muestran los ids\n",
    "print(\"Ids de una lista:\")\n",
    "for i, item in enumerate(lista):\n",
    "    print(f\"lista[{i}], id: {id(item)}\")\n",
    "\n",
    "#se muestra el id de num\n",
    "print(f\"id de num: {id(num)}\")\n",
    "\n",
    "\"\"\"\n",
    "Output de los ids de la lista:\n",
    "Ids de una lista:\n",
    "lista[0], id: 140727962829736\n",
    "lista[1], id: 140727962829768\n",
    "lista[2], id: 140727962829800\n",
    "\"\"\"\n",
    "#se agrega num a la lista\n",
    "lista.append(num)\n",
    "#se muestra la lista con num agregado al final\n",
    "print(\"Ids después de agregar num\")\n",
    "for i, item in enumerate(lista):\n",
    "    print(f\"lista[{i}], id: {id(item)}\")\n",
    "\n",
    "\"\"\"\n",
    "Output:\n",
    "Ids después de agregar num\n",
    "lista[0], id: 140727962829736\n",
    "lista[1], id: 140727962829768\n",
    "lista[2], id: 140727962829800\n",
    "lista[3], id: 140727962831048\n",
    "\"\"\"\n"
   ]
  },
  {
   "cell_type": "markdown",
   "id": "e39a2ca7",
   "metadata": {},
   "source": [
    "- Con remove() y pop() que remueven items de una lista. En el caso de remove() este busca valores, los cuales se especifican por parámetro. Esta función borra el primer elemento de la lista que tiene el mismo valor que el especificado. En la memoria, estos borran la referencia, el objeto solo se borra si no tiene nunguna otra referencia en la memoria. En caso de no tener referencias los remueve el garbage collector.\n",
    "- En el caso de pop() este se comporta de la misma manera en referencia a la memoria, pero cambia la forma de usarlo. Mientras que a remove() hay que pasarle el valor que se desea borrar, a pop() hay que pasarle la posición del índice."
   ]
  },
  {
   "cell_type": "code",
   "execution_count": null,
   "id": "80de46b0",
   "metadata": {},
   "outputs": [],
   "source": [
    "#se crea una cadena de caracteres\n",
    "cadena = \"hola mundo\"\n",
    "#se guardan distintos tipos de items en una lista\n",
    "#en este caso, un bool, str y un float\n",
    "lista = [True, cadena, 3.14]\n",
    "#se muestran los ids en un for\n",
    "print(\"Antes de quitar la cadena:\")\n",
    "for i, item in enumerate(lista):\n",
    "    print(f\"  lista[{i}] -> id: {id(item)}\")\n",
    "\n",
    "\"\"\"\n",
    "Output:\n",
    "Antes de quitar la cadena:\n",
    "  lista[0] -> id: 140727961944496\n",
    "  lista[1] -> id: 2804717490160\n",
    "  lista[2] -> id: 2804716491984\n",
    "\"\"\"\n",
    "\n",
    "#se quita la cadena de la lista\n",
    "lista.remove(\"hola mundo\")\n",
    "\n",
    "#se muestran los ids con un for\n",
    "print(\"Después del remove:\")\n",
    "for i, item in enumerate(lista):\n",
    "    print(f\"  lista[{i}] -> id: {id(item)}\")\n",
    "\n",
    "#se muestra el id de la cadena\n",
    "print(\"ID original de 'cadena':\", id(cadena))\n",
    "#se muestra el contenido de la cadena\n",
    "print(\"El objeto 'cadena' sigue existiendo:\", cadena)\n",
    "\n",
    "\"\"\"\n",
    "Output:\n",
    "Después del remove:\n",
    "  lista[0] -> id: 140727961944496\n",
    "  lista[1] -> id: 2804691371600\n",
    "ID original de 'cadena': 2804717486832\n",
    "El objeto 'cadena' sigue existiendo: hola mundo\n",
    "\n",
    "\"\"\""
   ]
  },
  {
   "cell_type": "markdown",
   "id": "33e2933f",
   "metadata": {},
   "source": [
    "Referencias consultadas:\n",
    "- [Listas](https://www.geeksforgeeks.org/python-lists/)\n",
    "- [Memoria](https://www.geeksforgeeks.org/memory-management-in-python/)\n",
    "- [Recolección](https://www.geeksforgeeks.org/garbage-collection-python/)\n",
    "- [Clases](https://www.geeksforgeeks.org/python-classes-and-objects/)"
   ]
  }
 ],
 "metadata": {
  "kernelspec": {
   "display_name": "Python 3",
   "language": "python",
   "name": "python3"
  },
  "language_info": {
   "codemirror_mode": {
    "name": "ipython",
    "version": 3
   },
   "file_extension": ".py",
   "mimetype": "text/x-python",
   "name": "python",
   "nbconvert_exporter": "python",
   "pygments_lexer": "ipython3",
   "version": "3.13.2"
  }
 },
 "nbformat": 4,
 "nbformat_minor": 5
}
