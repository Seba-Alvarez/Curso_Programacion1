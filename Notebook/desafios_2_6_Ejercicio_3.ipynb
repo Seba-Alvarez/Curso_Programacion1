{
 "cells": [
  {
   "cell_type": "markdown",
   "id": "4857d48e",
   "metadata": {},
   "source": [
    "## Desafío 3: Simulación de una carrera de autos\n",
    "\n",
    "Vas a simular una carrera de autos. Cada auto tiene una velocidad aleatoria (puedes usar la biblioteca random de Python) y cada ciclo del bucle representa un segundo de la carrera. Al final de cada segundo, cada auto avanza una distancia igual a su velocidad. La carrera dura 10 segundos. Al final de la carrera, debes imprimir el auto ganador. Si hay un empate, debes imprimir todos los autos que empataron.\n",
    "\n",
    "*Nota:* Este desafío puede requerir que aprendas sobre conceptos adicionales, por ejemplo cómo generar números aleatorios."
   ]
  },
  {
   "cell_type": "markdown",
   "id": "49cf8d52",
   "metadata": {},
   "source": [
    "El desafío pide:\n",
    "\n",
    "- Propone simular una carrera de vehiculos con valores de velocidad aleatorios\n",
    "- Esto implica:\n",
    "    - Usar alguna forma de guardar los datos (sea lista, tuplas o diccionarios)\n",
    "    - Usar números random\n",
    "    - Verificar cual fue el auto que en la última vuelta tuvo la mayor velocidad"
   ]
  },
  {
   "cell_type": "markdown",
   "id": "d442565a",
   "metadata": {},
   "source": [
    "Operadores lógicos:\n",
    "\n",
    "- **if** para comprobar las condiciones\n",
    "\n",
    "Estructura de datos:\n",
    "\n",
    "- **diccionario** Use un diccionario para guardar los autos y sus velocidades.\n",
    "\n",
    "Estructura de control:\n",
    "\n",
    "- **for** búcle para recorrer el diccionario y para hacer las 10 \"vueltas\" de la \"carrera\"."
   ]
  },
  {
   "cell_type": "code",
   "execution_count": null,
   "id": "4ec38a79",
   "metadata": {},
   "outputs": [],
   "source": [
    "#para usar números aleatoreos\n",
    "import random\n",
    "\n",
    "#diccionario vacio con los competidores\n",
    "competidores = {}\n",
    "#para asignar la velocidad máxima en el for\n",
    "max_vel = 0\n",
    "#para guardar el ganador\n",
    "ganador = \"\"\n",
    "\n",
    "#se piden la cantidad de autos a ingresar\n",
    "print(\"ingresar cuantos autos van a competir\")\n",
    "cant_autos = int(input())\n",
    "\n",
    "#aca se ingresan los autos en base a la cantidad especificada\n",
    "for i in range (cant_autos):\n",
    "    #se piden los autos\n",
    "    nom_auto = input().lower()\n",
    "    #velocidad random desde el 1 al 150\n",
    "    vel = random.randint(1, 150)\n",
    "    #aca se ingresa el auto al diccionario\n",
    "    #nom_auto es el nombre del auto\n",
    "    #aca la velocidad es 0, pero es solo la inicialización\n",
    "    competidores[nom_auto] = 0\n",
    "\n",
    "#el range representarian las 10 vueltas\n",
    "for i in range(10):\n",
    "    #este segundo for esta recorriendo los valores del diccionario\n",
    "    for auto in competidores:\n",
    "        #se crea una variable con las velocidades aleatorias\n",
    "        vel = random.randint(1, 150)\n",
    "        #se asigna la variable conteniendo el número random al valor del diccionario\n",
    "        #entonces cada auto(key) tiene una velocidad distinta\n",
    "        competidores[auto] = vel\n",
    "    #este print está aca para debuguear\n",
    "    print(competidores)\n",
    "\n",
    "#aca se busca la key con mayor valor\n",
    "#dicho de otra forma, se busca el auto con mayor velocidad\n",
    "#para esto se usa el max que encuentra el valor mas grande\n",
    "#el .get devuelve el valor de una key\n",
    "#dicho de otra forma, devuelve la velocidad de un auto en concreto\n",
    "#esto está afuera del bucle porque la velocidad importante es la última\n",
    "ganador = max(competidores, key=competidores.get)\n",
    "#aca se guarda la velocidad del ganador de la carrera\n",
    "max_vel = competidores[ganador]\n",
    "    \n",
    "#se muestra el ganador de la carrera por pantalla\n",
    "print(f\"el ganador de la carrera es el {ganador} llendo a {max_vel} km/h\")"
   ]
  },
  {
   "cell_type": "markdown",
   "id": "b14b3421",
   "metadata": {},
   "source": [
    "Desafíos encontrados:\n",
    "\n",
    "- Usar velocidades randoms en lugar de velocidades fijas me resultó mas complejo a la hora de guardar las variables\n",
    "- Al principio use una lista porque los nombres de los autos se pueden ser los mismos, pero me pareció mas adecuado (y simple) usar un diccionaro para guardar los valores en pares"
   ]
  }
 ],
 "metadata": {
  "kernelspec": {
   "display_name": "Python 3",
   "language": "python",
   "name": "python3"
  },
  "language_info": {
   "codemirror_mode": {
    "name": "ipython",
    "version": 3
   },
   "file_extension": ".py",
   "mimetype": "text/x-python",
   "name": "python",
   "nbconvert_exporter": "python",
   "pygments_lexer": "ipython3",
   "version": "3.13.2"
  }
 },
 "nbformat": 4,
 "nbformat_minor": 5
}
